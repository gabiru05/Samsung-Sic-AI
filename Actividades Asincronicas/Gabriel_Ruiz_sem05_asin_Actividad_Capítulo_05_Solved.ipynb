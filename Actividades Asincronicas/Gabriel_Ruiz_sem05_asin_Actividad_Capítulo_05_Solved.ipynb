{
 "cells": [
  {
   "cell_type": "markdown",
   "id": "5ad8356f",
   "metadata": {},
   "source": [
    "# Actividades Capítulo 5.\n",
    "\n",
    "\n",
    "# Algoritmos de clasificación.\n",
    "\n",
    "## Resumen de actividades\n",
    "\n",
    "\n",
    "- **Unidad 27.** Ordenamiento de burbuja (Bubble Sort), algoritmo de ordenamiento, selección e inserción\n",
    "- **Unidad 28.** Ordenar por selección, ordenamiento por inserción.\n",
    "- **Unidad 29.** Clasificación rápida\n"
   ]
  },
  {
   "cell_type": "markdown",
   "id": "8c5aa9c8",
   "metadata": {},
   "source": [
    "# Actividad: Ordenamiento de Burbuja\n",
    "\n",
    "\n",
    "## Instrucciones\n",
    "\n",
    "1. Explique brevemente y en forma clara cómo funciona el algoritmo de ordenamiento de burbuja.\n",
    "\n",
    "2. Desarrollo un función donde se use el ordenamiento de burbuja aplicada a una lista de valores enteros.\n",
    "\n",
    "\n",
    "El algoritmo de ordenamiento de burbuja es un método simple de ordenamiento que recorre repetidamente una lista de elementos, compara cada par de elementos adyacentes y los intercambia si están en el orden incorrecto. Este proceso se repite hasta que no se requieran más intercambios, lo que indica que la lista está ordenada.\n",
    "\n",
    "Aquí está el proceso paso a paso del algoritmo de ordenamiento de burbuja:\n",
    "\n",
    "Se recorre la lista de elementos desde el principio hasta el final.\n",
    "Para cada elemento, se compara con el siguiente elemento adyacente.\n",
    "Si el elemento actual es mayor que el siguiente, se intercambian de lugar.\n",
    "Se continúa este proceso hasta llegar al final de la lista.\n",
    "\n",
    "Se repiten los pasos 1 a 4 hasta que no se realicen más intercambios, lo que indica que la lista está ordenada.\n",
    "A continuación, te proporciono una función en Python que implementa el algoritmo de ordenamiento de burbuja:\n",
    "\n",
    "\n",
    "\n"
   ]
  },
  {
   "cell_type": "code",
   "execution_count": null,
   "id": "90cd2e33",
   "metadata": {},
   "outputs": [],
   "source": [
    "# Espacio para desarrollar el código requerido, recuerde agregar algunos\n",
    "# comentarios breves sobre su funcionamiento.\n",
    "\n",
    "def bubble_sort(lista):\n",
    "    n = len(lista)\n",
    "    # Recorremos la lista\n",
    "    for i in range(n):\n",
    "        # Últimos i elementos ya están en su lugar\n",
    "        for j in range(0, n-i-1):\n",
    "            # Intercambiar si el elemento encontrado es mayor que el siguiente elemento\n",
    "            if lista[j] > lista[j+1]:\n",
    "                lista[j], lista[j+1] = lista[j+1], lista[j]\n",
    "\n",
    "# Ejemplo de uso\n",
    "valores = [64, 34, 25, 12, 22, 11, 90]\n",
    "bubble_sort(valores)\n",
    "print(\"Lista ordenada:\")\n",
    "for valor in valores:\n",
    "    print(valor)"
   ]
  },
  {
   "cell_type": "markdown",
   "id": "a11871f3",
   "metadata": {},
   "source": [
    "# Actividad: Función Swap.\n",
    "\n",
    "1. Escriba una función que permita el intercambion de elementos en una lista.\n",
    "2. Los argumentos de esta función serán, la lista y los indices de los elementos que se desean intercambiar.\n",
    "3. En la siguiente celda desarrollo el código requerido, recuerde agregar comentarias breves que expliquen su funcionamiento."
   ]
  },
  {
   "cell_type": "code",
   "execution_count": 3,
   "id": "1e7a5371",
   "metadata": {},
   "outputs": [
    {
     "name": "stdout",
     "output_type": "stream",
     "text": [
      "Lista original: [1, 2, 3, 4, 5]\n",
      "Elementos intercambiados correctamente.\n",
      "Lista después del intercambio: [1, 4, 3, 2, 5]\n"
     ]
    }
   ],
   "source": [
    "# Espacio para desarrollar la actividad, si tienes alguna duda o comentario adicional\n",
    "# lo puedes dejar planteado acá.\n",
    "\n",
    "\n",
    "##Explicacion del codigo de la clase\n",
    "\n",
    "#Se solicita los indices que queremos intercambiar\n",
    "#verificamos no este fuera de los limites de la lista\n",
    "#obtenemos los datos y guardamos en una variable temporal mientras obetenemos el siguiente\n",
    "#asignamos los nuevos datos intercambiados que estaban en las variables temporales\n",
    "\n",
    "\n",
    "def swap_elements(lista, idx1, idx2):\n",
    "    \"\"\"\n",
    "    Intercambia los elementos de una lista en las posiciones especificadas.\n",
    "\n",
    "    Args:\n",
    "    lista (list): La lista en la que se realizarán los intercambios.\n",
    "    idx1 (int): Índice del primer elemento a intercambiar.\n",
    "    idx2 (int): Índice del segundo elemento a intercambiar.\n",
    "    \"\"\"\n",
    "    # Verificar si los índices están dentro de los límites de la lista\n",
    "    if 0 <= idx1 < len(lista) and 0 <= idx2 < len(lista):\n",
    "        # Intercambiar los elementos utilizando una variable temporal\n",
    "        temp = lista[idx1]\n",
    "        lista[idx1] = lista[idx2]\n",
    "        lista[idx2] = temp\n",
    "        print(\"Elementos intercambiados correctamente.\")\n",
    "    else:\n",
    "        print(\"Los índices están fuera de los límites de la lista.\")\n",
    "\n",
    "# Ejemplo de uso\n",
    "mi_lista = [1, 2, 3, 4, 5]\n",
    "print(\"Lista original:\", mi_lista)\n",
    "swap_elements(mi_lista, 1, 3)\n",
    "print(\"Lista después del intercambio:\", mi_lista)"
   ]
  },
  {
   "cell_type": "markdown",
   "id": "a207d974",
   "metadata": {},
   "source": [
    "\n",
    "# Actividad: \n",
    "\n",
    "1. Explique brevemente el funcionamiento del algoritmo Quick Sort.\n",
    "2. Desarrollo el código para implementar el algoritmo Quick Sort.\n",
    "3. Revise las unidad 29, sección 1.1"
   ]
  },
  {
   "cell_type": "code",
   "execution_count": null,
   "id": "a4f925a4",
   "metadata": {},
   "outputs": [],
   "source": [
    "#1 el algoritmo quick sort trata de dividir la lista en otras lista mas pequeñas ordenando\n",
    "#en base a un punto fijo que va seleccionando en cada nueva lista y compara entre los mayores y menores\n",
    "#y seguira subdividiense hasta irse ordenando consecutivamente y luego ordenar el pivote por ultimo\n"
   ]
  },
  {
   "cell_type": "code",
   "execution_count": 2,
   "id": "2ef4c921",
   "metadata": {},
   "outputs": [
    {
     "name": "stdout",
     "output_type": "stream",
     "text": [
      "Array ordenado es: [1, 5, 7, 8, 9, 10]\n"
     ]
    }
   ],
   "source": [
    "#Este es practicamente similar al problema que resolvimos en clase de pivote aleatorio\n",
    "#La variante esta en la eleccion del pivote que escogemos el mayor\n",
    "\n",
    "def partition1(arr, low, high):\n",
    "    i = (low-1)\n",
    "    pivot = arr[high]\n",
    "\n",
    "    for j in range(low, high):\n",
    "        if arr[j] <= pivot:\n",
    "            i = i+1\n",
    "            arr[i], arr[j] = arr[j], arr[i]\n",
    "\n",
    "    arr[i+1], arr[high] = arr[high], arr[i+1]\n",
    "    return (i+1)\n",
    "\n",
    "\n",
    "\n",
    "#pasamos atributos datos, mas bajo, mas alto\n",
    "def quicksort1(arr, low, high):\n",
    "    if low < high:\n",
    "        pivotpoint = partition1(arr, low, high)\n",
    "        quicksort1(arr, low, pivotpoint - 1)\n",
    "        quicksort1(arr, pivotpoint + 1, high)\n",
    "\n",
    "dat_Arra = [10, 7, 8, 9, 1, 5]\n",
    "n = len(dat_Arra)\n",
    "quicksort1(dat_Arra, 0, n-1)\n",
    "print(\"Array ordenado es:\", dat_Arra)\n"
   ]
  },
  {
   "cell_type": "markdown",
   "id": "26a6bb9e",
   "metadata": {},
   "source": [
    "# Actividad: Quick Sort usando un valor de pivote aleatorio.\n",
    "\n",
    "1. Explique brevemente el funcionamiento del algoritmo Quick Sort en la modaladidad de usar un valor de pivote aleatorio.\n",
    "2. Comente las ventajas de esta variación.\n",
    "3. Desarrollo el código necesarion para este algoritmo.\n",
    "4. Agregue comentarios sobre su funcionamiento.\n",
    "\n",
    "\n",
    "### Funcionamiento del algoritmo Quick Sort con pivote aleatorio:\n",
    "\n",
    "El algoritmo Quick Sort es un algoritmo de ordenamiento eficiente que utiliza la estrategia de dividir y conquistar. En su forma básica, selecciona un elemento como pivote y reorganiza los elementos de la lista de manera que los elementos menores que el pivote estén a su izquierda y los elementos mayores estén a su derecha. Luego, el algoritmo se aplica recursivamente a las sub-listas generadas a cada lado del pivote.\n",
    "\n",
    "Cuando se utiliza un valor de pivote aleatorio en el algoritmo Quick Sort, en lugar de seleccionar siempre el primer, último o medio elemento como pivote, se elige un elemento aleatorio de la lista como pivote en cada iteración. Esto ayuda a evitar el peor caso de rendimiento en el que el algoritmo puede degenerar a O(n^2) cuando la lista está casi ordenada.\n",
    "\n",
    "Ventajas de utilizar un valor de pivote aleatorio:\n",
    "\n",
    "Mejora el rendimiento en promedio: Al seleccionar aleatoriamente el pivote en cada iteración, el algoritmo es menos propenso a caer en casos de mal rendimiento, como cuando la lista está casi ordenada.\n",
    "Menos probable de sufrir ataques de tiempo: Al no depender de un patrón específico en la lista de entrada, es menos susceptible a ataques de tiempo maliciosos.\n",
    "A continuación, se muestra el código de Quick Sort con pivote aleatorio en Python:\n"
   ]
  },
  {
   "cell_type": "code",
   "execution_count": 17,
   "id": "6670eace",
   "metadata": {},
   "outputs": [
    {
     "name": "stdout",
     "output_type": "stream",
     "text": [
      "Lista ordenada: [0, 1, 2, 5, 7, 8, 9, 10]\n"
     ]
    }
   ],
   "source": [
    "import random\n",
    "\n",
    "def partition(arr, low, high):\n",
    "    pivot_index = random.randint(low, high)  # Seleccionar un índice aleatorio como pivote\n",
    "    pivot = arr[pivot_index]\n",
    "    # Intercambiar el pivote con el último elemento para facilitar el particionamiento\n",
    "    arr[pivot_index], arr[high] = arr[high], arr[pivot_index]\n",
    "    \n",
    "    i = low - 1\n",
    "    for j in range(low, high):\n",
    "        if arr[j] < pivot:\n",
    "            i += 1\n",
    "            arr[i], arr[j] = arr[j], arr[i]\n",
    "    arr[i+1], arr[high] = arr[high], arr[i+1]\n",
    "    return i + 1\n",
    "\n",
    "def quick_sort(arr, low, high):\n",
    "    if low < high:\n",
    "        pi = partition(arr, low, high)\n",
    "        quick_sort(arr, low, pi - 1)\n",
    "        quick_sort(arr, pi + 1, high)\n",
    "\n",
    "# Ejemplo de uso\n",
    "arr = [10, 7, 8, 9, 1, 5, 0, 2]\n",
    "n = len(arr)\n",
    "quick_sort(arr, 0, n - 1)\n",
    "print(\"Lista ordenada:\", arr)\n",
    "\n"
   ]
  },
  {
   "cell_type": "code",
   "execution_count": null,
   "id": "5e3b9d98",
   "metadata": {},
   "outputs": [],
   "source": []
  }
 ],
 "metadata": {
  "kernelspec": {
   "display_name": "Python 3 (ipykernel)",
   "language": "python",
   "name": "python3"
  },
  "language_info": {
   "codemirror_mode": {
    "name": "ipython",
    "version": 3
   },
   "file_extension": ".py",
   "mimetype": "text/x-python",
   "name": "python",
   "nbconvert_exporter": "python",
   "pygments_lexer": "ipython3",
   "version": "3.11.5"
  }
 },
 "nbformat": 4,
 "nbformat_minor": 5
}
