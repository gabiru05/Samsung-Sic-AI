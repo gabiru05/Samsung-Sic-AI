{
 "cells": [
  {
   "cell_type": "markdown",
   "id": "5ad8356f",
   "metadata": {},
   "source": [
    "# Actividades Capítulo 3.\n",
    "\n",
    "\n",
    "# Concepto básico de programación e inicio en Python\n",
    "\n",
    "## Resumen de actividades\n",
    "\n",
    "\n",
    "- **Unidad 17.** Función\n",
    "- **Unidad 18.** Llamada a la función de recurrencia.\n",
    "- **Unidad 19.** Lambda\n",
    "- **Unidad 20.** Clausura\n",
    "- **Unidad 21.** Clase\n"
   ]
  },
  {
   "cell_type": "markdown",
   "id": "8c5aa9c8",
   "metadata": {},
   "source": [
    "# Actividad: Creacion de funciones.\n",
    "\n",
    "\n",
    "## Instrucciones\n",
    "\n",
    "1. Defina en forma breve el concepto de función.\n",
    "\n",
    "2. Crear una función para realizar la suma de los números impares en el rango de 0 a 100, dentro de la función imprima los valores sumados y al final retorne el resultado de la sumatoria.\n"
   ]
  },
  {
   "cell_type": "code",
   "execution_count": 4,
   "id": "90cd2e33",
   "metadata": {},
   "outputs": [
    {
     "name": "stdout",
     "output_type": "stream",
     "text": [
      "1 3 5 7 9 11 13 15 17 19 21 23 25 27 29 31 33 35 37 39 41 43 45 47 49 51 53 55 57 59 61 63 65 67 69 71 73 75 77 79 81 83 85 87 89 91 93 95 97 99 \n",
      "\n",
      "Resultado: 2500\n"
     ]
    }
   ],
   "source": [
    "# Espacio para desarrollar el código requerido, recuerde agregar algunos\n",
    "# comentarios breves sobre su funcionamiento.\n",
    "\n",
    "#Creamos la funcion que hara todas las operaciones\n",
    "def suma_impar():\n",
    "    total = 0\n",
    "    for num in range(101):\n",
    "        if num % 2 != 0:\n",
    "            print(num, end=\" \")\n",
    "            total += num\n",
    "    return total\n",
    "#asignamos la funcion a una variable\n",
    "resultado = suma_impar()\n",
    "#llamamos la variable que hace referencia de la funcion e imprimimos\n",
    "print(\"\\n\\nResultado:\", resultado)\n",
    "\n",
    "\n",
    "\n",
    "\n",
    "\n",
    "\n",
    "\n",
    "\n",
    "\n",
    "\n"
   ]
  },
  {
   "cell_type": "markdown",
   "id": "a11871f3",
   "metadata": {},
   "source": [
    "# Actividad: Diseñe una función para codificar strings y otra para decodificar strings.\n",
    "\n",
    "1. Revise documentación relacionada a los procesos de encriptación, explique brevemente como funcionan.\n",
    "2. Ambas funciones deben tener como entrada un string y una ¨Clave\", la ¨Clave¨ será usada para codificar y decodificar.\n",
    "3. El desarrollo de está actividad esta abierto a multiples soluciones, por favor sea original en su respuesta.\n"
   ]
  },
  {
   "cell_type": "code",
   "execution_count": 37,
   "id": "1e7a5371",
   "metadata": {},
   "outputs": [
    {
     "name": "stdout",
     "output_type": "stream",
     "text": [
      "Ingrese texto: A B C D E F G H I J K L M N O P Q R S T U V W X Y Z\n",
      "Ingrese clave (cualquier número entero): 1000\n",
      "Elija una opción (1 para cifrar, 2 para Descifrar): 1\n",
      "Mensaje cifrado: M N O P Q R S T U V W X Y Z A B C D E F G H I J K L\n"
     ]
    }
   ],
   "source": [
    "\n",
    "#posibles mejoras\n",
    "##el rango 26 y 0 retornarian mismo valor\n",
    "##no hay ñ\n",
    "#reducimos el rango a solo 26 letra usando abecedario ingles \n",
    "#agregar ciclo reptetitivo al menu\n",
    "\n",
    "#Definimos funciones utiles\n",
    "\n",
    "#reducir cualquier numero dentro de 26\n",
    "def reducir_26(clave):\n",
    "    return clave % 26\n",
    "\n",
    "def code_cesar(texto, clave):\n",
    "    resultado = \"\"\n",
    "    for char in texto:\n",
    "        if char.isalpha():\n",
    "            #convertirmos a valor numerico\n",
    "            #comprobando si esta mayusucula o no\n",
    "            #realizamos operaciones de cifrado o descifrado segun formula cesar\n",
    "            #restauramos el valor numerico ascii\n",
    "            #convertimos a letra de nuevo\n",
    "            nueva_letra = chr((ord(char) - ord('a' if char.islower() else 'A') + clave) % 26 + ord('a' if char.islower() else 'A'))\n",
    "            resultado += nueva_letra\n",
    "        else:\n",
    "            resultado += char\n",
    "    return resultado\n",
    "\n",
    "def decode_cesar(text_code, clave):\n",
    "    return code_cesar(text_code, -clave)\n",
    "\n",
    "\n",
    "\n",
    "##Inicio del programa\n",
    "#pedimosel mensaje\n",
    "mensaje = input(\"Ingrese texto: \")\n",
    "\n",
    "#contenemos error posible en clave --solo numeros entero\n",
    "try:\n",
    "    clave = int(input(\"Ingrese clave (cualquier número entero): \"))\n",
    "    \n",
    "    #luego de obtener la clave la procesamos\n",
    "    clave_26 = reducir_26(clave)\n",
    "    ##para conocer clave final\n",
    "    #print(clave_26)\n",
    "\n",
    "    #Menu\n",
    "    opcion = input(\"Elija una opción (1 para cifrar, 2 para Descifrar): \")\n",
    "\n",
    "    if opcion == '1':\n",
    "        #codificamos mensaje\n",
    "        text_code = code_cesar(mensaje, clave_26)\n",
    "        print(\"Mensaje cifrado:\", text_code)\n",
    "        \n",
    "    elif opcion == '2':\n",
    "        #desencriptamos mensaje\n",
    "        text_decode = decode_cesar(mensaje, clave_26)\n",
    "        print(\"Mensaje descifrado:\", texto_decode)\n",
    "    else:\n",
    "        print(\"Opcion invalida\")\n",
    "except ValueError:\n",
    "    print(\"La clave debe ser un número entero.\")\n"
   ]
  },
  {
   "cell_type": "markdown",
   "id": "a207d974",
   "metadata": {},
   "source": [
    "\n",
    "# Actividad: Diseñe y codifique una función.\n",
    "\n",
    "1. Diseñe una función que revise el contenido de una carpeta, la mision de esta funcion es revisar todas las carpetas existentes y obtener los nommbres de los archivos contenidos.\n",
    "2. Considere que dentro de cada carpete pueden existir otras carpetas.\n",
    "3. Todas las carpetas deben ser revisadas.\n",
    "4. Con la ejecucion de la siguiente celda se crearan las carpetas y los archivos.\n",
    "5. Es posible que debas considerar el uso de una función recursiva."
   ]
  },
  {
   "cell_type": "code",
   "execution_count": 38,
   "id": "b4ac1d5a",
   "metadata": {
    "scrolled": true
   },
   "outputs": [
    {
     "name": "stdout",
     "output_type": "stream",
     "text": [
      "Carpeta_principal\n",
      "Carpeta_principal/folder_0\n",
      "Carpeta_principal/folder_2\n",
      "Carpeta_principal/folder_4\n",
      "Carpeta_principal/folder_10\n",
      "Carpeta_principal\\folder_0\n",
      "Carpeta_principal\\folder_0/folder_1\n",
      "Carpeta_principal\\folder_0/folder_6\n",
      "Carpeta_principal\\folder_0/folder_7\n",
      "Carpeta_principal\\folder_0\\folder_1\n",
      "Carpeta_principal\\folder_0\\folder_6\n",
      "Carpeta_principal\\folder_0\\folder_7\n",
      "Carpeta_principal\\folder_10\n",
      "Carpeta_principal\\folder_2\n",
      "Carpeta_principal\\folder_4\n"
     ]
    }
   ],
   "source": [
    "import os\n",
    "import random\n",
    "\n",
    "def guardar_archivo(text_content, file_path):\n",
    "    with open(file_path, 'w') as file:\n",
    "        # Write the text content to the file\n",
    "        file.write(text_content)\n",
    "\n",
    "\n",
    "if os.path.exists(\"Carpeta_principal\"):\n",
    "    os.system(f'rm -r \"Carpeta_principal\"')\n",
    "\n",
    "os.mkdir(\"Carpeta_principal\")\n",
    "# Inicialización\n",
    "\n",
    "\n",
    "\n",
    "def crear_carpetas(ruta_actual):\n",
    "    global numeracion_del_archivo, numero_de_sub_carpetas\n",
    "    numero_de_archivos_o_carpetas = random.randint(0,15) # genración de numero aleatorio entre 0 y 15.\n",
    "    print(ruta_actual)\n",
    "    if numero_de_sub_carpetas < max_carpetas:\n",
    "        for n in range(0, numero_de_archivos_o_carpetas):\n",
    "\n",
    "            numero_aleatorio_2 = random.randint(0,2) # número aleatoria entre 0 y 1.\n",
    "            if numero_aleatorio_2 == 0:\n",
    "                os.mkdir(ruta_actual +'/'+ 'folder_{}'.format(n) )\n",
    "                print(ruta_actual +'/'+ 'folder_{}'.format(n))\n",
    "            else:\n",
    "                contenido_del_archivo = \"Contenido_{}\".format(numeracion_del_archivo)                \n",
    "                ruta_del_archivo = ruta_actual + '/' + \"archivo_{}.text\".format(numeracion_del_archivo)\n",
    "#                 print(\"ruta_del_archivo: \", ruta_del_archivo)\n",
    "                guardar_archivo(contenido_del_archivo, ruta_del_archivo)\n",
    "                numeracion_del_archivo += 1\n",
    "                \n",
    "        lista_de_nuevas_carpetas = [f.path for f in os.scandir(ruta_actual) if f.is_dir()] # Busqueda de nueva carpeta\n",
    "\n",
    "        numero_de_sub_carpetas += 1\n",
    "        for carpeta in lista_de_nuevas_carpetas:\n",
    "            crear_carpetas(carpeta)\n",
    "        \n",
    "max_carpetas = 4\n",
    "numeracion_del_archivo = 0\n",
    "numero_de_sub_carpetas = 0\n",
    "ruta_actual = \"Carpeta_principal\"\n",
    "crear_carpetas(ruta_actual)"
   ]
  },
  {
   "cell_type": "code",
   "execution_count": 47,
   "id": "a4f925a4",
   "metadata": {},
   "outputs": [
    {
     "name": "stdout",
     "output_type": "stream",
     "text": [
      "Archivos en la carpeta principal:\n",
      "Carpeta_principal\\archivo_0.text\n",
      "Carpeta_principal\\archivo_1.text\n",
      "Carpeta_principal\\archivo_2.text\n",
      "Carpeta_principal\\archivo_3.text\n",
      "Carpeta_principal\\archivo_4.text\n",
      "Carpeta_principal\\archivo_5.text\n",
      "Carpeta_principal\\archivo_6.text\n",
      "Carpeta_principal\\archivo_7.text\n",
      "Carpeta_principal\\folder_0\\archivo_10.text\n",
      "Carpeta_principal\\folder_0\\archivo_11.text\n",
      "Carpeta_principal\\folder_0\\archivo_12.text\n",
      "Carpeta_principal\\folder_0\\archivo_13.text\n",
      "Carpeta_principal\\folder_0\\archivo_14.text\n",
      "Carpeta_principal\\folder_0\\archivo_8.text\n",
      "Carpeta_principal\\folder_0\\archivo_9.text\n",
      "Carpeta_principal\\folder_0\\folder_1\\archivo_15.text\n",
      "Carpeta_principal\\folder_0\\folder_1\\archivo_16.text\n",
      "Carpeta_principal\\folder_0\\folder_1\\archivo_17.text\n",
      "Carpeta_principal\\folder_0\\folder_1\\archivo_18.text\n",
      "Carpeta_principal\\folder_0\\folder_1\\archivo_19.text\n",
      "Carpeta_principal\\folder_0\\folder_1\\archivo_20.text\n",
      "Carpeta_principal\\folder_0\\folder_6\\archivo_21.text\n",
      "Carpeta_principal\\folder_0\\folder_6\\archivo_22.text\n",
      "Carpeta_principal\\folder_0\\folder_6\\archivo_23.text\n",
      "Carpeta_principal\\folder_0\\folder_6\\archivo_24.text\n",
      "Carpeta_principal\\folder_0\\folder_6\\archivo_25.text\n"
     ]
    }
   ],
   "source": [
    "# Celda para desarrollar \n",
    "\n",
    "import os\n",
    "\n",
    "def obtener_Nombre_en_ruta(ruta):\n",
    "    #guardamos los nombre en matriz\n",
    "  nombres_de_archivos = []\n",
    "  for raiz, directorios, archivos in os.walk(ruta):\n",
    "        \n",
    "\n",
    "    #raiz es el directorio actual.\n",
    "    #directorios son los nombres de los subdirectorios \n",
    "    #archivos lista con nombre de los archivo en el directorio que se encuentre\n",
    "    #print(\"raiz\",raiz)\n",
    "    #print(\"directorios\",directorios)\n",
    "    #print(\"archivos\",archivos,\"\\n\\n\\n\\n\")\n",
    "    \n",
    "    #para cada archivo en la biblioteca encontrada\n",
    "    for archivo in archivos:\n",
    "        \n",
    "    #unimos la raiz en que se encuentre con el nombre del archivo\n",
    "      nombres_de_archivos.append(os.path.join(raiz, archivo))\n",
    "  return nombres_de_archivos\n",
    "\n",
    "\n",
    "\n",
    "#establecemos donde empezar a buscar\n",
    "ruta = \"Carpeta_principal\"\n",
    "#asignamos variable que tendra la funcion dicha ruta establecida\n",
    "archivos = obtener_Nombre_en_ruta(ruta)\n",
    "\n",
    "\n",
    "\n",
    "#imprimimos los nombres con ruta que encontro\n",
    "print(\"Archivos en la carpeta principal:\")\n",
    "for archivo in archivos:\n",
    "  print(archivo)\n",
    "\n",
    "\n",
    "\n",
    "\n",
    "\n",
    "\n"
   ]
  },
  {
   "cell_type": "markdown",
   "id": "26a6bb9e",
   "metadata": {},
   "source": [
    "# Actividad: Crear diccionarios y guardarlos como archivo JSON.\n",
    "\n",
    "De la unidad 11 sección 4.6 revise el ejemplo mostrado.\n",
    "\n",
    "Genera un diccionario, sobre la información que deseas guardar como base de datos, desarrollo el código necesario para generar el archivo JSON, y también el código para cargar la información del archivo JSON.\n"
   ]
  },
  {
   "cell_type": "code",
   "execution_count": 57,
   "id": "8dd5f60b",
   "metadata": {},
   "outputs": [
    {
     "data": {
      "text/plain": [
       "{'titulo': 'Harry Potter y la Piedra Filosofal',\n",
       " 'autor': 'J.K. Rowling',\n",
       " 'año': 1997,\n",
       " 'genero': 'Fantasía, Aventura, Novela de aprendizaje',\n",
       " 'idioma': 'Español',\n",
       " 'ISBN': '978-84-204-6781-2',\n",
       " 'precio': 18.95}"
      ]
     },
     "execution_count": 57,
     "metadata": {},
     "output_type": "execute_result"
    }
   ],
   "source": [
    "libro_Harry = {\n",
    "    \"titulo\": \"Harry Potter y la Piedra Filosofal\",\n",
    "    \"autor\": \"J.K. Rowling\",\n",
    "    \"año\": 1997,\n",
    "    \"genero\": \"Fantasía, Aventura, Novela de aprendizaje\",\n",
    "    \"idioma\": \"Español\",\n",
    "    \"ISBN\": \"978-84-204-6781-2\",\n",
    "    \"precio\": 18.95,\n",
    "}\n",
    "\n",
    "libro_Harry"
   ]
  },
  {
   "cell_type": "code",
   "execution_count": 58,
   "id": "1d022176",
   "metadata": {},
   "outputs": [],
   "source": [
    "def guardar_json(libro_guardar, nombre_archivo):\n",
    "    with open(nombre_archivo, 'w') as archivo:\n",
    "        json.dump(libro_guardar, archivo, indent=\"\\t\")\n",
    "\n",
    "guardar_json(libro_Harry, \"libro_Harry.json\")\n"
   ]
  },
  {
   "cell_type": "code",
   "execution_count": 59,
   "id": "42ec7d49",
   "metadata": {},
   "outputs": [
    {
     "name": "stdout",
     "output_type": "stream",
     "text": [
      "Título: Harry Potter y la Piedra Filosofal\n",
      "Autor: J.K. Rowling\n",
      "Año: 1997\n"
     ]
    }
   ],
   "source": [
    "def cargar_json(nombre_archivo):\n",
    "    with open(nombre_archivo, 'r') as data:\n",
    "        diccionario = json.load(data)\n",
    "    return diccionario\n",
    "\n",
    "libro_cargado = cargar_json(\"libro_Harry.json\")\n",
    "\n",
    "#Imprimimos la informacion del libro_harry.json\n",
    "print(\"Título:\", libro_cargado[\"titulo\"])\n",
    "print(\"Autor:\", libro_cargado[\"autor\"])\n",
    "print(\"Año:\", libro_cargado[\"año\"])\n"
   ]
  },
  {
   "cell_type": "markdown",
   "id": "fbfb4985",
   "metadata": {},
   "source": [
    "# Actividad: Uso de la funcion Lambda.\n",
    "\n",
    "## Instrucciones\n",
    "\n",
    "1. Escriba una función regular donde se realice una operación.\n",
    "2. Escriba la misma función donde use la expresión lambda.\n",
    "3. Explica brevemente las ventajas de usar la función Lambda.\n"
   ]
  },
  {
   "cell_type": "code",
   "execution_count": 60,
   "id": "fc5b1a43",
   "metadata": {},
   "outputs": [
    {
     "name": "stdout",
     "output_type": "stream",
     "text": [
      "8\n"
     ]
    }
   ],
   "source": [
    "# Espacio para desarrollar el código siguiendo las instrucciones.\n",
    "\n",
    "#asi seria una funcion regular\n",
    "def sumar(a, b):\n",
    "    return a + b\n",
    "\n",
    "resultado = sumar(5, 3)\n",
    "\n",
    "print(resultado)\n"
   ]
  },
  {
   "cell_type": "code",
   "execution_count": 61,
   "id": "5c7b3656",
   "metadata": {},
   "outputs": [
    {
     "name": "stdout",
     "output_type": "stream",
     "text": [
      "8\n"
     ]
    }
   ],
   "source": [
    "sumar = lambda a, b: a + b\n",
    "#ventajas\n",
    "##no tenemos que retornar los datos escribiendo dicha linea\n",
    "##es mas simple su funcionamiento\n",
    "\n",
    "resultado = sumar(5, 3)\n",
    "\n",
    "print(resultado)\n"
   ]
  },
  {
   "cell_type": "markdown",
   "id": "98938d2d",
   "metadata": {},
   "source": [
    "# Actividad: Usar la función map para duplicar el valor de cada uno de los elementos contenidos.\n",
    "\n",
    "## Instrucciones\n",
    "\n",
    "1. Describa brevemente el funcionamiento y las ventajas de usar la función map\n",
    "2. Escriba el código en el siguiente espacio."
   ]
  },
  {
   "cell_type": "code",
   "execution_count": 63,
   "id": "a35ef1b7",
   "metadata": {},
   "outputs": [
    {
     "name": "stdout",
     "output_type": "stream",
     "text": [
      "numeros duplicados:  [2, 4, 6, 8, 10]\n"
     ]
    }
   ],
   "source": [
    "# Espacio para desarrollar el código.\n",
    "\n",
    "\n",
    "\n",
    "def duplicar(x):\n",
    "    return x * 2\n",
    "\n",
    "numeros = [1, 2, 3, 4, 5]\n",
    "\n",
    "#funcionamiento\n",
    "##numeros sera el iterable al que en cada elemento que contenga se le aplicara dicha funcion antes definida\n",
    "##duplicar seria la funcion que se hara en cada uno de los numero\n",
    "\n",
    "num = list(map(duplicar, numeros))\n",
    "\n",
    "#ventajas\n",
    "##es mas facil codificar y simple cuando queremos que todo los elemento en algun arreglo pasen por una misma funcion\n",
    "\n",
    "\n",
    "#nota map devuelve objeto\n",
    "##los objeto no se imprimen con texto junto\n",
    "#list funciona para convertir dicho objeto en lista y solventar algunos problemas\n",
    "\n",
    "print(\"numeros duplicados: \", num)\n",
    "\n",
    "\n",
    "\n",
    "\n",
    "\n"
   ]
  },
  {
   "cell_type": "code",
   "execution_count": null,
   "id": "5bf8cbed",
   "metadata": {},
   "outputs": [],
   "source": []
  }
 ],
 "metadata": {
  "kernelspec": {
   "display_name": "Python 3 (ipykernel)",
   "language": "python",
   "name": "python3"
  },
  "language_info": {
   "codemirror_mode": {
    "name": "ipython",
    "version": 3
   },
   "file_extension": ".py",
   "mimetype": "text/x-python",
   "name": "python",
   "nbconvert_exporter": "python",
   "pygments_lexer": "ipython3",
   "version": "3.11.5"
  }
 },
 "nbformat": 4,
 "nbformat_minor": 5
}
