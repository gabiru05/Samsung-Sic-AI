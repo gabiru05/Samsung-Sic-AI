{
 "cells": [
  {
   "cell_type": "markdown",
   "id": "5ad8356f",
   "metadata": {},
   "source": [
    "# Actividades Capítulo 2.\n",
    "\n",
    "\n",
    "# Concepto básico de programación e inicio en Python\n",
    "\n",
    "## Resumen de actividades\n",
    "\n",
    "- **Unidad 10.** Tipos de datos lista y tupla Tipos de datos lista y tupla\n",
    "- **Unidad 11.** Tipos de datos de diccionario Tipos de datos de diccionario\n",
    "- **Unidad 12.** Tipos de datos de secuencia\n",
    "- **Unidad 13.** Listas 2D\n",
    "- **Unidad 14.** Método del diccionario-1\n",
    "- **Unidad 15.** Método del diccionario-2\n",
    "- **Unidad 16.** Establecer tipos de datos\n"
   ]
  },
  {
   "cell_type": "markdown",
   "id": "8c5aa9c8",
   "metadata": {},
   "source": [
    "# Actividad: Creación de una Base de Datos en Python\n",
    "\n",
    "## Descripción\n",
    "\n",
    "A continuación debes crear una base de datos simple utilizando listas en Python. Una base de datos es una colección de datos organizados que se utilizan para almacenar y recuperar información. En este caso, simularemos una base de datos de estudiantes con información básica.\n",
    "\n",
    "## Instrucciones\n",
    "\n",
    "1. Crea un programa en Python que permita a los usuarios realizar las siguientes acciones:\n",
    "\n",
    "   a. Agregar un nuevo estudiante a la base de datos. Cada estudiante debe tener al menos un nombre, un número de identificación y una edad. Puedes utilizar una lista para almacenar estos datos.\n",
    "\n",
    "   b. Mostrar la lista de estudiantes en la base de datos.\n",
    "\n",
    "   c. Buscar un estudiante por su número de identificación y mostrar su información.\n",
    "\n",
    "   d. Actualizar la información de un estudiante existente en la base de datos.\n",
    "\n",
    "   e. Eliminar un estudiante de la base de datos.\n",
    "\n",
    "2. Utiliza listas de Python para almacenar la información de los estudiantes. Por ejemplo, puedes crear una lista de diccionarios, donde cada diccionario representa un estudiante con sus datos.\n",
    "\n",
    "3. Ofrece un menú interactivo que permita a los usuarios elegir las acciones que desean realizar en la base de datos.\n",
    "\n",
    "4. Implementa la lógica necesaria para cada acción, como agregar, buscar, actualizar o eliminar estudiantes.\n",
    "\n",
    "## Ejemplo de Base de Datos\n",
    "\n",
    "A continuación, se muestra un ejemplo de cómo podría verse una base de datos de estudiantes utilizando listas y diccionarios:\n",
    "\n",
    "```python\n",
    "base_de_datos = [\n",
    "    {\"nombre\": \"Juan\", \"id\": 1, \"edad\": 20},\n",
    "    {\"nombre\": \"María\", \"id\": 2, \"edad\": 22},\n",
    "    {\"nombre\": \"Carlos\", \"id\": 3, \"edad\": 21}\n",
    "]\n",
    "\n",
    "Desarrolle el código en la siguiente lista."
   ]
  },
  {
   "cell_type": "code",
   "execution_count": 36,
   "id": "90cd2e33",
   "metadata": {},
   "outputs": [],
   "source": [
    "#Recuerde agregar comentarios donde se describa el funcionamiento de las diferentes secciones.\n",
    "\n",
    "#Usamos la base del profesor\n",
    "base_de_datos = [\n",
    "        {\"nombre\": \"Juan\", \"id\": 1, \"edad\": 20},\n",
    "        {\"nombre\": \"María\", \"id\": 2, \"edad\": 22},\n",
    "        {\"nombre\": \"Carlos\", \"id\": 3, \"edad\": 21}\n",
    "    ]\n",
    "\n"
   ]
  },
  {
   "cell_type": "code",
   "execution_count": 37,
   "id": "bc7cb70b",
   "metadata": {},
   "outputs": [
    {
     "data": {
      "text/plain": [
       "[{'nombre': 'Juan', 'id': 1, 'edad': 20},\n",
       " {'nombre': 'María', 'id': 2, 'edad': 22},\n",
       " {'nombre': 'Carlos', 'id': 3, 'edad': 21}]"
      ]
     },
     "execution_count": 37,
     "metadata": {},
     "output_type": "execute_result"
    }
   ],
   "source": [
    "#Mostramos los datos\n",
    "base_de_datos"
   ]
  },
  {
   "cell_type": "code",
   "execution_count": 38,
   "id": "7f1ac5a1",
   "metadata": {},
   "outputs": [],
   "source": [
    "#Agregamos la funcion de poder añadir estudiantes usando el codigo del profesor\n",
    "def agregar_estudiante(base_de_datos):\n",
    "    nombre = input(\"Ingrese el nombre del estudiante: \")\n",
    "    identificacion = int(input(\"Ingrese el número de identificación del estudiante: \"))\n",
    "    edad = int(input(\"Ingrese la edad del estudiante: \"))\n",
    "    \n",
    "    nuevo_estudiante = {\"nombre\": nombre, \"id\": identificacion, \"edad\": edad}\n",
    "    base_de_datos.append(nuevo_estudiante)\n",
    "    \n",
    "    print(f\"Estudiante {nombre} agregado correctamente.\")\n",
    "    "
   ]
  },
  {
   "cell_type": "code",
   "execution_count": 39,
   "id": "71be7f2d",
   "metadata": {},
   "outputs": [],
   "source": [
    "#Funcion para mostrar los estudiantes en la base de datos\n",
    "def mostrar_estudiantes(base_de_datos):\n",
    "    print(\"\\nLista de Estudiantes:\")\n",
    "    for estudiante in base_de_datos:\n",
    "        print(f\"Nombre: {estudiante['nombre']}, ID: {estudiante['id']}, Edad: {estudiante['edad']}\")\n",
    "        \n",
    "#Funcion para buscar los estudiantes en la base de datos\n",
    "def buscar_estudiante(base_de_datos):\n",
    "    identificacion_buscar = int(input(\"Ingrese el número de identificación del estudiante a buscar: \"))\n",
    "    for estudiante in base_de_datos:\n",
    "        if estudiante['id'] == identificacion_buscar:\n",
    "            print(f\"\\nInformación del Estudiante encontrado:\")\n",
    "            print(f\"Nombre: {estudiante['nombre']}, ID: {estudiante['id']}, Edad: {estudiante['edad']}\")\n",
    "            return\n",
    "    print(f\"No se encontró ningún estudiante con el ID {identificacion_buscar}.\")\n",
    "\n",
    "\n",
    "        \n",
    "#Funcion para actualizar información los estudiantes en la base de datos encontrandolo por su identificación\n",
    "def actualizar_estudiante(base_de_datos):\n",
    "    identificacion_actualizar = int(input(\"Ingrese el número de identificación del estudiante a actualizar: \"))\n",
    "    for estudiante in base_de_datos:\n",
    "        if estudiante['id'] == identificacion_actualizar:\n",
    "            nombre = input(\"Ingrese el nuevo nombre del estudiante: \")\n",
    "            edad = int(input(\"Ingrese la nueva edad del estudiante: \"))\n",
    "            estudiante['nombre'] = nombre\n",
    "            estudiante['edad'] = edad\n",
    "            print(f\"Información del estudiante actualizada correctamente.\")\n",
    "            return\n",
    "    print(f\"No se encontró ningún estudiante con el ID {identificacion_actualizar}.\")\n",
    "\n",
    "            \n",
    "#Funcion para un estudiantes en la base de datos encontrado por su identificación\n",
    "def eliminar_estudiante(base_de_datos):\n",
    "    identificacion_eliminar = int(input(\"Ingrese el número de identificación del estudiante a eliminar: \"))\n",
    "    for estudiante in base_de_datos:\n",
    "        if estudiante['id'] == identificacion_eliminar:\n",
    "            base_de_datos.remove(estudiante)\n",
    "            print(f\"Estudiante eliminado correctamente.\")\n",
    "            return\n",
    "    print(f\"No se encontró ningún estudiante con el ID {identificacion_eliminar}.\")"
   ]
  },
  {
   "cell_type": "code",
   "execution_count": 40,
   "id": "6d634c5e",
   "metadata": {},
   "outputs": [
    {
     "name": "stdout",
     "output_type": "stream",
     "text": [
      "\n",
      "Menu:\n",
      "a. Agregar Estudiante\n",
      "b. Mostrar Estudiantes\n",
      "c. Buscar Estudiante\n",
      "d. Actualizar Estudiante\n",
      "e. Eliminar Estudiante\n",
      "q. Salir\n",
      "Seleccione una opción: a\n",
      "Ingrese el nombre del estudiante: Gaby\n",
      "Ingrese el número de identificación del estudiante: 123\n",
      "Ingrese la edad del estudiante: 20\n",
      "Estudiante Gaby agregado correctamente.\n",
      "\n",
      "Menu:\n",
      "a. Agregar Estudiante\n",
      "b. Mostrar Estudiantes\n",
      "c. Buscar Estudiante\n",
      "d. Actualizar Estudiante\n",
      "e. Eliminar Estudiante\n",
      "q. Salir\n",
      "Seleccione una opción: b\n",
      "Entre por B\n",
      "\n",
      "Lista de Estudiantes:\n",
      "Nombre: Juan, ID: 1, Edad: 20\n",
      "Nombre: María, ID: 2, Edad: 22\n",
      "Nombre: Carlos, ID: 3, Edad: 21\n",
      "Nombre: Gaby, ID: 123, Edad: 20\n",
      "\n",
      "Menu:\n",
      "a. Agregar Estudiante\n",
      "b. Mostrar Estudiantes\n",
      "c. Buscar Estudiante\n",
      "d. Actualizar Estudiante\n",
      "e. Eliminar Estudiante\n",
      "q. Salir\n",
      "Seleccione una opción: e\n",
      "Entre por E\n",
      "Ingrese el número de identificación del estudiante a eliminar: 1\n",
      "Estudiante eliminado correctamente.\n",
      "\n",
      "Menu:\n",
      "a. Agregar Estudiante\n",
      "b. Mostrar Estudiantes\n",
      "c. Buscar Estudiante\n",
      "d. Actualizar Estudiante\n",
      "e. Eliminar Estudiante\n",
      "q. Salir\n",
      "Seleccione una opción: b\n",
      "Entre por B\n",
      "\n",
      "Lista de Estudiantes:\n",
      "Nombre: María, ID: 2, Edad: 22\n",
      "Nombre: Carlos, ID: 3, Edad: 21\n",
      "Nombre: Gaby, ID: 123, Edad: 20\n",
      "\n",
      "Menu:\n",
      "a. Agregar Estudiante\n",
      "b. Mostrar Estudiantes\n",
      "c. Buscar Estudiante\n",
      "d. Actualizar Estudiante\n",
      "e. Eliminar Estudiante\n",
      "q. Salir\n",
      "Seleccione una opción: q\n",
      "Entre por Q\n"
     ]
    }
   ],
   "source": [
    "#Ciclo que se repita siempre hasta salir con q\n",
    "while True:\n",
    "        #mostramos el menu para orientar al usuario\n",
    "        print(\"\\nMenu:\")\n",
    "        print(\"a. Agregar Estudiante\")\n",
    "        print(\"b. Mostrar Estudiantes\")\n",
    "        print(\"c. Buscar Estudiante\")\n",
    "        print(\"d. Actualizar Estudiante\")\n",
    "        print(\"e. Eliminar Estudiante\")\n",
    "        print(\"q. Salir\")\n",
    "        \n",
    "        #contenemos un posible error al ingresar mayúscula se convierta a minúscula\n",
    "        opcion = input(\"Seleccione una opción: \").lower()\n",
    "        \n",
    "        #segun la seleccion ingresamos a dicha funcion establecidas anteriormente\n",
    "        if opcion == 'a':\n",
    "            agregar_estudiante(base_de_datos)\n",
    "        elif opcion == 'b':\n",
    "            print('Entre por B')\n",
    "            mostrar_estudiantes(base_de_datos)\n",
    "        elif opcion == 'c':\n",
    "            print('Entre por C')\n",
    "            buscar_estudiante(base_de_datos)\n",
    "        elif opcion == 'd':\n",
    "            print('Entre por D')\n",
    "            actualizar_estudiante(base_de_datos)\n",
    "        elif opcion == 'e':\n",
    "            print('Entre por E')\n",
    "            eliminar_estudiante(base_de_datos)\n",
    "        elif opcion == 'q':\n",
    "            print('Entre por Q')\n",
    "            break\n",
    "        else:\n",
    "            print(\"Opción no válida. Inténtelo de nuevo.\")"
   ]
  },
  {
   "cell_type": "markdown",
   "id": "a11871f3",
   "metadata": {},
   "source": [
    "# Actividad: Rebanado de listas.\n",
    "\n",
    "Revisa la unidad 10,sección 5.3 aparece un resumen de los comandos para tomar secciones de una lista, aplica los comandos en la siguiente lista:\n",
    "\n",
    "\n",
    "list_notas = [15, 21, 24, 40, 13, 14, 18, 17, 14.5]\n",
    "\n"
   ]
  },
  {
   "cell_type": "code",
   "execution_count": 1,
   "id": "1e7a5371",
   "metadata": {},
   "outputs": [
    {
     "data": {
      "text/plain": [
       "[15, 24, 13, 18, 14.5]"
      ]
     },
     "execution_count": 1,
     "metadata": {},
     "output_type": "execute_result"
    }
   ],
   "source": [
    "# Espacio para desarrollar las pruebas, si tienes alguna duda o comentario adicional\n",
    "# lo puedes dejar planteado acá.\n",
    "\n",
    "list_notas = [15, 21, 24, 40, 13, 14, 18, 17, 14.5]\n",
    "list_notas[::2]"
   ]
  },
  {
   "cell_type": "code",
   "execution_count": 7,
   "id": "6ed5772f",
   "metadata": {},
   "outputs": [
    {
     "name": "stdout",
     "output_type": "stream",
     "text": [
      "Resultado1: [21, 24, 40, 13]\n",
      "Resultado2: [24, 40, 13, 14, 18, 17, 14.5]\n",
      "Resultado3: [15, 21, 24]\n",
      "Resultado4: [15, 21, 24, 40, 13, 14, 18, 17, 14.5]\n",
      "Resultado5: [21, 15]\n"
     ]
    }
   ],
   "source": [
    "list_notas = [15, 21, 24, 40, 13, 14, 18, 17, 14.5]\n",
    "\n",
    "# a_list[inicio:fin]\n",
    "resultado1 = list_notas[1:5]\n",
    "print(\"Resultado1:\", resultado1)\n",
    "\n",
    "# a_list[start:]\n",
    "resultado2 = list_notas[2:]\n",
    "print(\"Resultado2:\", resultado2)\n",
    "\n",
    "# a_list[:end]\n",
    "resultado3 = list_notas[:3]\n",
    "print(\"Resultado3:\", resultado3)\n",
    "\n",
    "# a_list[:]\n",
    "resultado4 = list_notas[:]\n",
    "print(\"Resultado4:\", resultado4)\n",
    "\n",
    "# a_list[1 ::- 1]\n",
    "resultado5 = list_notas[1::-1]\n",
    "print(\"Resultado5:\", resultado5)\n",
    "\n",
    "\n"
   ]
  },
  {
   "cell_type": "markdown",
   "id": "a207d974",
   "metadata": {},
   "source": [
    "\n",
    "# Actividad: Diferentes métodos usados en listas.\n",
    "\n",
    "De la unidad 10, sección 6.3 revise los métodos disponibles para usar sobre las listas.\n",
    "\n",
    "Aplique los métodos disponibles sobre la lista mostrada en la siguiente celda. \n",
    "\n",
    "Nota: usando el método **sort()** ordene de mayor a menor y viceversa (Si es necesario revise documentación adicional relacionada sobre este método)\n"
   ]
  },
  {
   "cell_type": "code",
   "execution_count": 41,
   "id": "b4ac1d5a",
   "metadata": {},
   "outputs": [
    {
     "name": "stdout",
     "output_type": "stream",
     "text": [
      "Índice del primer numero (21): 1\n",
      "Lista después de append(20): [15, 21, 24, 40, 13, 14, 18, 13, 17, 14.5, 20]\n",
      "Número de veces que aparece el (21): 1\n",
      "Lista después de extender([1, 2, 3]): [15, 21, 24, 40, 13, 14, 18, 13, 17, 14.5, 20, 1, 2, 3]\n",
      "Lista después de insertar (3, 25): [15, 21, 24, 25, 40, 13, 14, 18, 13, 17, 14.5, 20, 1, 2, 3]\n",
      "Lista después de remover el (21): [15, 24, 25, 40, 13, 14, 18, 13, 17, 14.5, 20, 1, 2, 3]\n",
      "Valor eliminado en el índice 2: 25\n",
      "Lista después de pop(2): [15, 24, 40, 13, 14, 18, 13, 17, 14.5, 20, 1, 2, 3]\n",
      "Lista de mayor a menor: [40, 24, 20, 18, 17, 15, 14.5, 14, 13, 13, 3, 2, 1]\n",
      "Lista de menor a mayor: [1, 2, 3, 13, 13, 14, 14.5, 15, 17, 18, 20, 24, 40]\n"
     ]
    }
   ],
   "source": [
    "# Aplique los métodos disponibles y agregue comentarios breves sobre su funcinamiento.\n",
    "\n",
    "list_notas = [15, 21, 24, 40, 13, 14, 18, 13, 17, 14.5]\n",
    "\n",
    "\n",
    "# Espacio para desarrollo del código y comentarios.\n",
    "\n",
    "\n",
    "# Buscamos cual es el índice del primer elemento con valor que deseado\n",
    "indice = list_notas.index(21)\n",
    "print(\"Índice del primer numero (21):\", indice)\n",
    "\n",
    "# Añadimos el 20 al final de la lista\n",
    "list_notas.append(20)\n",
    "print(\"Lista después de append(20):\", list_notas)\n",
    "\n",
    "# Contar cuántas veces aparece el valor 21 en la lista\n",
    "count = list_notas.count(21)\n",
    "print(\"Número de veces que aparece el (21):\", count)\n",
    "\n",
    "# Extender la lista con los elementos [1, 2, 3]\n",
    "list_notas.extend([1, 2, 3])\n",
    "print(\"Lista después de extender([1, 2, 3]):\", list_notas)\n",
    "\n",
    "# Insertamos el valor 25 en el índice 3\n",
    "list_notas.insert(3, 25)\n",
    "print(\"Lista después de insertar (3, 25):\", list_notas)\n",
    "\n",
    "# Eliminar la primera vez que encuentre el valor 21\n",
    "list_notas.remove(21)\n",
    "print(\"Lista después de remover el (21):\", list_notas)\n",
    "\n",
    "# Eliminamos el elemento que esta en el índice 2\n",
    "valor_eliminado = list_notas.pop(2)\n",
    "print(\"Valor eliminado en el índice 2:\", valor_eliminado)\n",
    "print(\"Lista después de pop(2):\", list_notas)\n",
    "\n",
    "# Ordenamos la lista de mayor a menor\n",
    "list_notas.sort(reverse=True)\n",
    "print(\"Lista de mayor a menor:\", list_notas)\n",
    "\n",
    "# Ordenamos la lista de menor a mayor \n",
    "list_notas.sort(reverse=False)\n",
    "print(\"Lista de menor a mayor:\", list_notas)\n",
    "\n"
   ]
  },
  {
   "cell_type": "markdown",
   "id": "26a6bb9e",
   "metadata": {},
   "source": [
    "# Actividad: Crear diccionarios y guardarlos como archivo JSON.\n",
    "\n",
    "De la unidad 11 sección 4.6 revise el ejemplo mostrado.\n",
    "\n",
    "Genera un diccionario, sobre la información que deseas guardar como base de datos, desarrollo el código necesario para generar el archivo JSON, y también el código para cargar la información del archivo JSON.\n"
   ]
  },
  {
   "cell_type": "code",
   "execution_count": 12,
   "id": "6670eace",
   "metadata": {},
   "outputs": [
    {
     "name": "stdout",
     "output_type": "stream",
     "text": [
      "Datos cargados desde el archivo JSON:\n",
      "{'nombre': 'Gabiru', 'edad': 20, 'ciudad': 'Panamá', 'trabajo': 'Student', 'contacto': {'email': 'gabriel.ruiz.student@gmail.com', 'telefono': '1234-5678'}}\n"
     ]
    }
   ],
   "source": [
    "# Espacio para desarrollar el código.\n",
    "\n",
    "import json\n",
    "\n",
    "# Creamos el diccionario con cierta informacion definida\n",
    "datos_diccionario = {\n",
    "    \"nombre\": \"Gabiru\",\n",
    "    \"edad\": 20,\n",
    "    \"ciudad\": \"Panamá\",\n",
    "    \"trabajo\": \"Student\",\n",
    "    \"contacto\": {\n",
    "        \"email\": \"gabriel.ruiz.student@gmail.com\",\n",
    "        \"telefono\": \"1234-5678\"\n",
    "    }\n",
    "}\n",
    "\n",
    "# Guardamos el diccionario como un archivo JSON\n",
    "with open('data.json', 'w') as archivo_json:\n",
    "    json.dump(datos_diccionario, archivo_json, indent='\\t')\n",
    "\n",
    "#Luego obtenemos esa información desde el archivo JSON\n",
    "with open('data.json', 'r') as archivo_json:\n",
    "    datos_cargados = json.load(archivo_json)\n",
    "\n",
    "# Y por ultimo imprimimos el archivo cargado desde el JSON\n",
    "print(\"Datos cargados desde el archivo JSON:\")\n",
    "print(datos_cargados)\n",
    "\n"
   ]
  },
  {
   "cell_type": "markdown",
   "id": "fbfb4985",
   "metadata": {},
   "source": [
    "# Actividad: Creación y manejo de tuplas.\n",
    "\n",
    "## Instrucciones\n",
    "\n",
    "1. Escriba una diferencia entre las tuplas y las listas.\n",
    "2. Crear una tupla con varios elementos.\n",
    "3. Usar el operador in para verificar si la tuple contiene determinado elemento.\n"
   ]
  },
  {
   "cell_type": "code",
   "execution_count": 17,
   "id": "fc5b1a43",
   "metadata": {},
   "outputs": [
    {
     "name": "stdout",
     "output_type": "stream",
     "text": [
      "Ingrese un número para comprobar se encuentra en la tupla\n",
      "8\n",
      "La tupla no contiene el elemento 8.\n"
     ]
    }
   ],
   "source": [
    "# Espacio para desarrollar el código siguiendo las instrucciones.\n",
    "\n",
    "#1.\n",
    "# La diferencia entre lista y tupla es que una lista puede seguir modificandose ya sea agregar o eliminar entre \n",
    "# otras funciones mientras que una tupla cumple la funcion de una constante que al ser definida no se puede modificar\n",
    "\n",
    "#2.\n",
    "tup = (1, 2, 3, 4, 5)\n",
    "\n",
    "\n",
    "print(\"Ingrese un número para comprobar se encuentra en la tupla\")\n",
    "elemento_a_comprobar = int(input())\n",
    "\n",
    "#3.\n",
    "if elemento_a_comprobar in tup:\n",
    "    print(f\"La tupla si contiene el elemento {elemento_a_comprobar}.\")\n",
    "else:\n",
    "    print(f\"La tupla no contiene el elemento {elemento_a_comprobar}.\")\n"
   ]
  },
  {
   "cell_type": "markdown",
   "id": "98938d2d",
   "metadata": {},
   "source": [
    "# Actividad: Revisión y manejo de listas bidimensionales.\n",
    "\n",
    "## Instrucciones\n",
    "\n",
    "1. Describa brevemente que entiende por lista bidimensional.\n",
    "2. Crear una lista bidimensional.\n",
    "3. Generar un doble loop para acceder de la lista bidimensional\n",
    "4. Sumar todo los elementos de esta lista bidimensional."
   ]
  },
  {
   "cell_type": "code",
   "execution_count": 27,
   "id": "a35ef1b7",
   "metadata": {},
   "outputs": [
    {
     "name": "stdout",
     "output_type": "stream",
     "text": [
      "1 2 3 \n",
      "4 5 6 \n",
      "La suma total es : 21\n"
     ]
    }
   ],
   "source": [
    "# Espacio para desarrollar el código, escriba comentarias breves para explicar su funcionamiento.\n",
    "\n",
    "#1.\n",
    "#Una lista bidimensional es un elemento que presenta dos dimensiones alto y ancho si fuera tridimensional tuviera profundidad\n",
    "#es un concepto similar a la realidad donde objetos 2d  presentan cordenadas en x,y\n",
    "\n",
    "#2.\n",
    "# Creamos una lista bidimensional (matriz)\n",
    "matriz_bi = [\n",
    "    [1, 2, 3],\n",
    "    [4, 5, 6]\n",
    "]\n",
    "\n",
    "#3.\n",
    "# Hacemos un doble bucle para imprimir todo la matriz porque ahora son de dos dimensiones alto y ancho \n",
    "#o mejor dicho filas y columnas\n",
    "\n",
    "for fila in matriz_bi:\n",
    "    for elemento in fila:\n",
    "        print(elemento, end=' ')\n",
    "    print()\n",
    "\n",
    "\n",
    "#4.\n",
    "# Contador para la suma\n",
    "suma_total = 0\n",
    "\n",
    "# Doble bucle para sumar los elementos\n",
    "for j in matriz_bi:\n",
    "    for k in j:\n",
    "        suma_total += k\n",
    "        #aqui practicamente es recorrer elemento por elemento y sumarlo suma= suma_anterior + nuevo_elemento\n",
    "\n",
    "print(\"La suma total es :\", suma_total)\n",
    "\n",
    "\n",
    "\n",
    "\n",
    "\n"
   ]
  },
  {
   "cell_type": "markdown",
   "id": "4261fa65",
   "metadata": {},
   "source": [
    "# Actividad: Revision de los métodos usados en el manejo de diccionarios.\n",
    "\n",
    "## Instrucciones\n",
    "\n",
    "1. Crear un diccionario.\n",
    "2. Testear los siguientes métodos para el majeo de diccionarios get(), keys(), values(), items(), pop(), clear()\n",
    "3. Agregar un breve comentario sobre su funcionamiento."
   ]
  },
  {
   "cell_type": "code",
   "execution_count": 34,
   "id": "2f5887bb",
   "metadata": {},
   "outputs": [
    {
     "name": "stdout",
     "output_type": "stream",
     "text": [
      "Edad: 20\n",
      "\n",
      "Claves: dict_keys(['nombre', 'edad', 'ciudad', 'trabajo', 'contacto'])\n",
      "\n",
      "Valores: dict_values(['Gabiru', 20, 'Panamá', 'Student', {'email': 'gabriel.ruiz.student@gmail.com', 'telefono': '1234-5678'}])\n",
      "\n",
      "Elementos: dict_items([('nombre', 'Gabiru'), ('edad', 20), ('ciudad', 'Panamá'), ('trabajo', 'Student'), ('contacto', {'email': 'gabriel.ruiz.student@gmail.com', 'telefono': '1234-5678'})])\n",
      "\n",
      "Valor eliminado: Student\n",
      "Diccionario después de pop: {'nombre': 'Gabiru', 'edad': 20, 'ciudad': 'Panamá', 'contacto': {'email': 'gabriel.ruiz.student@gmail.com', 'telefono': '1234-5678'}}\n",
      " \n",
      "Diccionario después de clear: {}\n",
      "\n"
     ]
    }
   ],
   "source": [
    "import json\n",
    "\n",
    "# Creamos el diccionario con cierta información definida\n",
    "datos_diccionario = {\n",
    "    \"nombre\": \"Gabiru\",\n",
    "    \"edad\": 20,\n",
    "    \"ciudad\": \"Panamá\",\n",
    "    \"trabajo\": \"Student\",\n",
    "    \"contacto\": {\n",
    "        \"email\": \"gabriel.ruiz.student@gmail.com\",\n",
    "        \"telefono\": \"1234-5678\"\n",
    "    }\n",
    "}\n",
    "\n",
    "# Método get():Este método obtiene el valor asociado a una clave\n",
    "valor_de_edad = datos_diccionario.get('edad')\n",
    "print(f\"Edad: {valor_de_edad}\\n\")\n",
    "\n",
    "# Método keys(): Nos muestra las claves del diccionario.\n",
    "claves = datos_diccionario.keys()\n",
    "print(f\"Claves: {claves}\\n\")\n",
    "\n",
    "# Método values(): Obtenemos los valores en el diccionario.\n",
    "valores = datos_diccionario.values()\n",
    "print(f\"Valores: {valores}\\n\")\n",
    "\n",
    "# Método items(): Obtenemos una vista (clave, valor) para cada elemento.\n",
    "elementos = datos_diccionario.items()\n",
    "print(f\"Elementos: {elementos}\\n\")\n",
    "\n",
    "# Método pop(): Elimina y devuelve el valor asociado a la clave especificada ('trabajo' en mi caso).\n",
    "valor_eliminado = datos_diccionario.pop('trabajo', None)\n",
    "print(f\"Valor eliminado: {valor_eliminado}\")\n",
    "print(f\"Diccionario después de pop: {datos_diccionario}\\n \")\n",
    "\n",
    "# Método clear(): Eliminara todos los elementos del diccionario dejandolo vacio.\n",
    "datos_diccionario.clear()\n",
    "print(f\"Diccionario después de clear: {datos_diccionario}\\n\")"
   ]
  },
  {
   "cell_type": "code",
   "execution_count": null,
   "id": "4db8d6a1",
   "metadata": {},
   "outputs": [],
   "source": []
  }
 ],
 "metadata": {
  "kernelspec": {
   "display_name": "Python 3 (ipykernel)",
   "language": "python",
   "name": "python3"
  },
  "language_info": {
   "codemirror_mode": {
    "name": "ipython",
    "version": 3
   },
   "file_extension": ".py",
   "mimetype": "text/x-python",
   "name": "python",
   "nbconvert_exporter": "python",
   "pygments_lexer": "ipython3",
   "version": "3.11.5"
  }
 },
 "nbformat": 4,
 "nbformat_minor": 5
}
