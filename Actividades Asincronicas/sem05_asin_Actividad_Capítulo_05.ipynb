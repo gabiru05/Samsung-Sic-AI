{
 "cells": [
  {
   "cell_type": "markdown",
   "id": "5ad8356f",
   "metadata": {},
   "source": [
    "# Actividades Capítulo 5.\n",
    "\n",
    "\n",
    "# Algoritmos de clasificación.\n",
    "\n",
    "## Resumen de actividades\n",
    "\n",
    "\n",
    "- **Unidad 27.** Ordenamiento de burbuja, (Bubble Sort) algoritmo de ordenamiento, selección e inserción\n",
    "- **Unidad 28.** Ordenar por selección, ordenamiento por inserción.\n",
    "- **Unidad 29.** Clasificación rápida\n"
   ]
  },
  {
   "cell_type": "markdown",
   "id": "8c5aa9c8",
   "metadata": {},
   "source": [
    "# Actividad: Ordenamiento de Burbuja\n",
    "\n",
    "\n",
    "## Instrucciones\n",
    "\n",
    "1. Explique brevemente y en forma clara cómo funciona el algoritmo de ordenamiento de burbuja.\n",
    "\n",
    "2. Desarrollo un función donde se use el ordenamiento de burbuja aplicada a una lista de valores enteros.\n",
    "\n"
   ]
  },
  {
   "cell_type": "code",
   "execution_count": null,
   "id": "90cd2e33",
   "metadata": {},
   "outputs": [],
   "source": [
    "# Espacio para desarrollar el código requerido, recuerde agregar algunos\n",
    "# comentarios breves sobre su funcionamiento.\n",
    "\n",
    "\n",
    "\n",
    "\n",
    "\n",
    "\n",
    "\n"
   ]
  },
  {
   "cell_type": "markdown",
   "id": "a11871f3",
   "metadata": {},
   "source": [
    "# Actividad: Función Swap.\n",
    "\n",
    "1. Escriba una función que permita el intercambion de elementos en una lista.\n",
    "2. Los argumentos de esta función serán, la lista y los indices de los elementos que se desean intercambiar.\n",
    "3. En la siguiente celda desarrollo el código requerido, recuerde agregar comentarias breves que expliquen su funcionamiento.\n"
   ]
  },
  {
   "cell_type": "code",
   "execution_count": 1,
   "id": "1e7a5371",
   "metadata": {},
   "outputs": [],
   "source": [
    "# Espacio para desarrollar la actividad, si tienes alguna duda o comentario adicional\n",
    "# lo puedes dejar planteado acá.\n",
    "\n",
    "\n",
    "\n",
    "\n",
    "\n",
    "\n",
    "\n",
    "\n",
    "\n"
   ]
  },
  {
   "cell_type": "markdown",
   "id": "a207d974",
   "metadata": {},
   "source": [
    "\n",
    "# Actividad: \n",
    "\n",
    "1. Explique brevemente el funcionamiento del algoritmo Quick Sort.\n",
    "2. Desarrollo el código para implementar el algoritmo Quick Sort.\n",
    "3. Revise las unidad 29, sección 1.1"
   ]
  },
  {
   "cell_type": "code",
   "execution_count": null,
   "id": "a4f925a4",
   "metadata": {},
   "outputs": [],
   "source": [
    "# Celda para desarrollar \n",
    "\n",
    "\n",
    "\n",
    "\n",
    "\n",
    "\n",
    "\n"
   ]
  },
  {
   "cell_type": "markdown",
   "id": "26a6bb9e",
   "metadata": {},
   "source": [
    "# Actividad: Quick Sort usando un valor de pivote aleatorio.\n",
    "\n",
    "1. Explique brevemente el funcionamiento del algoritmo Quick Sort en la modaladidad de usar un valor de pivote aleatorio.\n",
    "2. Comente las ventajas de esta variación.\n",
    "3. Desarrollo el código necesarion para este algoritmo.\n",
    "4. Agregue comentarios sobre su funcionamiento.\n",
    "\n"
   ]
  },
  {
   "cell_type": "code",
   "execution_count": null,
   "id": "6670eace",
   "metadata": {},
   "outputs": [],
   "source": [
    "# Espacio para desarrollar el código siguiendo las instrucciones.\n",
    "\n",
    "\n",
    "\n",
    "\n",
    "\n",
    "\n",
    "\n",
    "\n",
    "\n",
    "\n",
    "\n",
    "\n",
    "\n",
    "\n"
   ]
  }
 ],
 "metadata": {
  "kernelspec": {
   "display_name": "Python 3 (ipykernel)",
   "language": "python",
   "name": "python3"
  },
  "language_info": {
   "codemirror_mode": {
    "name": "ipython",
    "version": 3
   },
   "file_extension": ".py",
   "mimetype": "text/x-python",
   "name": "python",
   "nbconvert_exporter": "python",
   "pygments_lexer": "ipython3",
   "version": "3.11.5"
  }
 },
 "nbformat": 4,
 "nbformat_minor": 5
}
