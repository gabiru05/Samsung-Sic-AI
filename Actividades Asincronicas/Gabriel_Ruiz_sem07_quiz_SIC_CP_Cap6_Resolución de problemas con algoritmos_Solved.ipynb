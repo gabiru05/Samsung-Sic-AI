{
 "cells": [
  {
   "cell_type": "markdown",
   "id": "49909eb6",
   "metadata": {},
   "source": [
    "# Coding and Programming\n",
    "\n",
    "## Capítulo 6\n",
    "\n",
    "### Resolución de problemas con algoritmos\n",
    "\n",
    "- **Unidad 30.** Enfoque Greedy algoritmos voraces o ávidos.\n",
    "- **Unidad 31.** Divide y vencerás\n",
    "- **Unidad 32.** Programación dinámica\n",
    "- **Unidad 33.** Backtracking\n"
   ]
  },
  {
   "cell_type": "markdown",
   "id": "2e42031a",
   "metadata": {},
   "source": [
    "___"
   ]
  },
  {
   "cell_type": "markdown",
   "id": "780f0fff",
   "metadata": {},
   "source": [
    "## Q 30-01\n",
    "\n",
    "Este es el problema del intercambio de monedas.\n",
    "\n",
    "Tienes una moneda de 400 wones.\n",
    "\n",
    "Escriba el resultado de cómo el algoritmo `coin_change()` determina el cambio de la moneda de 800 wones.\n",
    "```\n",
    "coins  = [500, 400, 100, 50, 10]\n",
    "amount = int(input(\"Ingrese la cantidad: \"))\n",
    "changes= coin_change(coins, amount)\n",
    "print(changes, len(changes))\n",
    "\n",
    "Ingrese la cantidad: 800\n",
    "```"
   ]
  },
  {
   "cell_type": "markdown",
   "id": "8d0b8eb8",
   "metadata": {},
   "source": []
  },
  {
   "cell_type": "code",
   "execution_count": 12,
   "id": "2bdf9d16",
   "metadata": {},
   "outputs": [
    {
     "name": "stdout",
     "output_type": "stream",
     "text": [
      "Ingrese la cantidad: 800\n",
      "[500, 100, 100, 100] 4\n"
     ]
    }
   ],
   "source": [
    "def coin_change(coins, amount):\n",
    "    coins.sort(reverse=True)  # Ordenar las monedas de mayor a menor\n",
    "    num_coins = 0\n",
    "    change = []\n",
    "    for coin in coins:\n",
    "        while amount >= coin:\n",
    "            num_coins += 1\n",
    "            amount -= coin\n",
    "            change.append(coin)\n",
    "    return change\n",
    "\n",
    "\n",
    "#Funcionamiento del algoritmo\n",
    "#escoge la primer moneda mientras no sea mayor al total que tiene que devolver de lo contrario \n",
    "#continuara a la siguiente moneda hasta que devolvera todo el cambio\n",
    "\n",
    "\n",
    "coins  = [500, 400, 100, 50, 10]\n",
    "amount = int(input(\"Ingrese la cantidad: \"))\n",
    "changes= coin_change(coins, amount)\n",
    "print(changes, len(changes))\n",
    "\n",
    "\n",
    "\n"
   ]
  },
  {
   "cell_type": "markdown",
   "id": "89395b47",
   "metadata": {},
   "source": [
    "## Q 31-01\n",
    "\n",
    "Tienes 8 monedas idénticas numeradas del 1 al 8. De estas, solo una moneda es más pesada que la otra.\n",
    "\n",
    "Suponiendo que puede pesar monedas con una balanza equilibrada, diseñe un algoritmo que encuentre la moneda más pesada.\n",
    "\n",
    "En este momento, ¿cuántas veces se debe usar al menos la balanza?"
   ]
  },
  {
   "cell_type": "markdown",
   "id": "8d05fa5e",
   "metadata": {},
   "source": []
  },
  {
   "cell_type": "code",
   "execution_count": 14,
   "id": "58eae748",
   "metadata": {},
   "outputs": [
    {
     "name": "stdout",
     "output_type": "stream",
     "text": [
      "peso grupo 1\n",
      "4\n",
      "peso grupo 2\n",
      "9\n",
      "comparacion 2\n",
      "peso grupo 1\n",
      "4\n",
      "peso grupo 2\n",
      "5\n",
      "comparacion 2\n",
      "peso grupo 1\n",
      "2\n",
      "peso grupo 2\n",
      "3\n",
      "comparacion 2\n",
      "peso grupo 1\n",
      "2\n",
      "peso grupo 2\n",
      "1\n",
      "comparacion 1\n",
      "La moneda más pesada es: 2\n"
     ]
    }
   ],
   "source": [
    "def encontrar_moneda_mas_pesada(lista_mo):\n",
    "\n",
    "    ### Caso base: Si solo hay una moneda, esa es la más pesada\n",
    "    if len(lista_mo) == 1:\n",
    "        return lista_mo[0]\n",
    "    \n",
    "    \n",
    "    #divividimos las monedas en -\"dos bolsas\"-\n",
    "    \n",
    "    print(\"peso grupo 1\")\n",
    "    # Pesamos nuestra \"bolsita 1\" con todas las monedas que tiene\n",
    "    peso_grupo = sum(lista_mo[:len(lista_mo)//2])\n",
    "    print(peso_grupo)\n",
    "    \n",
    "    \n",
    "    print(\"peso grupo 2\")\n",
    "    # Pesamos nuestra \"bolsita 2\" con todas las monedas que tiene\n",
    "    peso_resto = sum(lista_mo[len(lista_mo)//2:])\n",
    "    print(peso_resto)\n",
    "    \n",
    "    ### Caso recursivo\n",
    "    \n",
    "    # comprobamos pesen distinto \n",
    "    if peso_grupo != peso_resto:\n",
    "        if peso_grupo > peso_resto:\n",
    "            print(\"comparacion 1\")\n",
    "            #si esta pesara mas la escogemos y repetimos los paso subdividiendola hasta encontrar la mas pesada\n",
    "            return encontrar_moneda_mas_pesada(lista_mo[:len(lista_mo)//2])\n",
    "        else:\n",
    "            print(\"comparacion 2\")\n",
    "            return encontrar_moneda_mas_pesada(lista_mo[len(lista_mo)//2:])\n",
    "    else:\n",
    "        # Si los pesos son iguales cualquiera puede ser seleccionada ya que es del mismo peso\n",
    "        return lista_mo[-1]\n",
    "\n",
    "# Ejemplo de uso\n",
    "monedas = [1, 1, 1, 1, 3, 1, 2, 1]  # Todas las monedas tienen el mismo peso, excepto la última (2)\n",
    "print(\"La moneda más pesada es:\", encontrar_moneda_mas_pesada(monedas))\n"
   ]
  },
  {
   "cell_type": "markdown",
   "id": "c1d6fd10",
   "metadata": {},
   "source": [
    "3. en este caso con el algoritmo que implemente seria:\n",
    "8/2 = 4\n",
    "4/2 = 2\n",
    "2/2 = 1\n",
    "Solo se estaria ejecuntado 3 veces"
   ]
  },
  {
   "cell_type": "markdown",
   "id": "6f047403",
   "metadata": {},
   "source": [
    "## Q 31-02\n",
    "\n",
    "Hay nueve monedas idénticas numeradas del 1 al 9 en el problema anterior.\n",
    "\n",
    "Diseñe un algoritmo para encontrar una moneda pesada en este caso.\n",
    "\n",
    "En este momento, ¿cuántas veces se debe usar al menos la balanza?"
   ]
  },
  {
   "cell_type": "markdown",
   "id": "41e80a15",
   "metadata": {},
   "source": []
  },
  {
   "cell_type": "markdown",
   "id": "5f60dc6b",
   "metadata": {},
   "source": [
    "3. en este caso con el algoritmo que implemente seria:\n",
    "9/2 = 4.5 pero como lo llevamos a entero una lista quedara de 5 y otra de 4\n",
    "5-4/2 = 3-2 nos puede quedar 3 o 2 dependiendo de la ubicacion en la que se encuentre moneda.\n",
    "3-2/2 = 2-1 aqui puede la encuentre o realize otra comparacion adicional al ser impar\n",
    "1/2= ya es la que queda y la encuentra\n",
    "Solo se estaria ejecuntado 4 veces"
   ]
  },
  {
   "cell_type": "markdown",
   "id": "0453c475",
   "metadata": {},
   "source": [
    "___"
   ]
  },
  {
   "cell_type": "markdown",
   "id": "881569fc",
   "metadata": {},
   "source": [
    "## Q 32-01\n",
    "\n",
    "Analice el resultado de la ejecución del siguiente código y compárelo con el rendimiento de las funciones `fib1()`, `fib2()` y `fib3()`.\n",
    "```\n",
    "def fib4(n):\n",
    "    if n <= 1:\n",
    "        return n\n",
    "    else:\n",
    "        a,b = 0,1\n",
    "        for i in range(2, n + 1):\n",
    "            a,b = b,a+b\n",
    "        return b\n",
    "\n",
    "N = int(input(\"Ingrese un numero: \"))\n",
    "print(fib4(N))\n",
    "\n",
    "\n",
    "Ingrese un numero:\n",
    "```\n"
   ]
  },
  {
   "cell_type": "markdown",
   "id": "25354b5c",
   "metadata": {},
   "source": []
  },
  {
   "cell_type": "code",
   "execution_count": 3,
   "id": "0db84775",
   "metadata": {},
   "outputs": [
    {
     "name": "stdout",
     "output_type": "stream",
     "text": [
      "Ingrese un numero: 5\n",
      "5\n",
      "Esto es a\n",
      "0\n",
      "Esto es b\n",
      "1\n",
      "Esto es a\n",
      "1\n",
      "Esto es b\n",
      "1\n",
      "Esto es a\n",
      "1\n",
      "Esto es b\n",
      "2\n",
      "Esto es a\n",
      "2\n",
      "Esto es b\n",
      "3\n",
      "5\n"
     ]
    }
   ],
   "source": [
    "def fib4(n):\n",
    "    print (n)\n",
    "    if n <= 1:\n",
    "        return n\n",
    "    else:\n",
    "        a,b = 0,1\n",
    "        for i in range(2, n + 1):\n",
    "            print ('Esto es a')\n",
    "            print (a)\n",
    "            print ('Esto es b')\n",
    "            print (b)\n",
    "            a,b = b,a+b\n",
    "        return b\n",
    "\n",
    "N = int(input(\"Ingrese un numero: \"))\n",
    "print(fib4(N))\n",
    "\n"
   ]
  },
  {
   "cell_type": "markdown",
   "id": "1087c522",
   "metadata": {},
   "source": [
    "## Q 32-02\n",
    "\n",
    "Analice el resultado de la ejecución del siguiente código y compárelo con el rendimiento de las funciones `bin1()` y `bin2()`.\n",
    "```\n",
    "def bin3(n,k):\n",
    "    B = [0] * (n + 1)\n",
    "    for i in range(n + 1):\n",
    "        for j in range(n, -1, -1):\n",
    "            if j==0 or j==i:\n",
    "                B[j] = 1\n",
    "            else:\n",
    "                B[j] = B[j] + B[j-1]\n",
    "    return B[k]\n",
    "\n",
    "\n",
    "for i in range(10):\n",
    "    for j in range(i+1):\n",
    "        print(bin3(i,j),end=\" \")\n",
    "    print()\n",
    "```"
   ]
  },
  {
   "cell_type": "markdown",
   "id": "a0df2e98",
   "metadata": {},
   "source": []
  },
  {
   "cell_type": "code",
   "execution_count": 9,
   "id": "47ee0bfd",
   "metadata": {},
   "outputs": [
    {
     "name": "stdout",
     "output_type": "stream",
     "text": [
      "1 \n",
      "1 1 \n",
      "1 2 1 \n",
      "1 3 3 1 \n",
      "1 4 6 4 1 \n",
      "1 5 10 10 5 1 \n",
      "1 6 15 20 15 6 1 \n",
      "1 7 21 35 35 21 7 1 \n",
      "1 8 28 56 70 56 28 8 1 \n",
      "1 9 36 84 126 126 84 36 9 1 \n"
     ]
    }
   ],
   "source": [
    "def bin3(n,k):\n",
    "    B = [0] * (n + 1)\n",
    "    for i in range(n + 1):\n",
    "        for j in range(n, -1, -1):\n",
    "            if j==0 or j==i:\n",
    "                B[j] = 1\n",
    "            else:\n",
    "                B[j] = B[j]+B[j-1]\n",
    "    return B[k]\n",
    "\n",
    "\n",
    "for i in range(10):\n",
    "    for j in range(i+1):\n",
    "        print(bin3(i,j),end=\" \")\n",
    "    print()"
   ]
  },
  {
   "cell_type": "markdown",
   "id": "d36e67d4",
   "metadata": {},
   "source": [
    "## Q 33-01\n",
    "\n",
    "Si reemplaza cada letra con un número en la siguiente letra, el número correspondiente a las cinco palabras son todos cuadrados.\n",
    "\n",
    "Para cada palabra, la suma de cada dígito también es un número cuadrado.\n",
    "\n",
    "Encuentra el número representado por cada letra.\n",
    "\n",
    "**Código de referencia:**"
   ]
  },
  {
   "cell_type": "code",
   "execution_count": 20,
   "id": "13991ae0",
   "metadata": {},
   "outputs": [
    {
     "name": "stdout",
     "output_type": "stream",
     "text": [
      "No se encontró una solución válida.\n",
      "Tiempo transcurrido: 0.0008983612060546875 segundos\n"
     ]
    }
   ],
   "source": [
    "from math import sqrt, floor\n",
    "import time\n",
    "\n",
    "\n",
    "def is_square_digitsum(n):\n",
    "    s = 0\n",
    "    while n > 0:\n",
    "        s += n % 10\n",
    "        n = n // 10\n",
    "    if sqrt(s) == int(sqrt(s)):\n",
    "        return True\n",
    "    return False\n",
    "\n",
    "\n",
    "def find_all_squares():\n",
    "    sqrs = [[] for _ in range(5)]\n",
    "    for i in range(1, floor (sqrt(10 ** 5)) + 1):\n",
    "        n = i * i\n",
    "        if not is_square_digitsum(n):\n",
    "            continue\n",
    "        s = str(n)\n",
    "        if len(s) == 3 and s[1] != s[2]:\n",
    "            continue\n",
    "        if len(s) == 5 and s[2] != s[3]:\n",
    "            continue\n",
    "        if len(s) in [4, 5] and len(set(s)) != 4:\n",
    "            continue\n",
    "        sqrs[len(s) - 1].append(n)\n",
    "    return sqrs\n",
    "\n",
    "\n",
    "def promising (s, n, dic):\n",
    "    for i in range(len(s)):\n",
    "        digit = int(str(n)[i])\n",
    "        for key, value in dic.items():\n",
    "            if key == s[i] and value != digit:\n",
    "                return False\n",
    "            if value == digit and key != s[i]:\n",
    "                return False\n",
    "    return True\n",
    "\n",
    "def solve(words, dic, squares, solved):\n",
    "    if len(words) == 0:\n",
    "        return dic.copy()  # Devolvemos el diccionario resuelto\n",
    "    else:\n",
    "        s = words[0]\n",
    "        candidates = squares[len(s) - 1]\n",
    "        for n in candidates:\n",
    "            if promising(s, n, dic):\n",
    "                newdic = dic.copy()\n",
    "                for i in range(len(s)):\n",
    "                    newdic[s[i]] = int(str(n)[i])\n",
    "                solved = solve(words[1:], newdic, squares, solved)\n",
    "                if solved is not None:  # Si se encuentra una solución, la retornamos\n",
    "                    return solved\n",
    "        return None  # Si no se encuentra ninguna solución, retornamos None\n",
    "\n",
    "def main():\n",
    "    squares = find_all_squares()\n",
    "    words = ['A', 'TO', 'ALL', 'XMAS', 'MERRO']\n",
    "    dic = {}\n",
    "    solved = solve(words, dic, squares, {})\n",
    "    if solved is not None:\n",
    "        for word in words:\n",
    "            print(word, end=\": \")\n",
    "            for c in word:\n",
    "                print(solved[c], end=\"\")\n",
    "            print()\n",
    "    else:\n",
    "        print(\"No se encontró una solución válida.\")\n",
    "\n",
    "start = time.time()\n",
    "main()\n",
    "end = time.time()\n",
    "print(\"Tiempo transcurrido:\", end - start, \"segundos\")\n"
   ]
  },
  {
   "cell_type": "markdown",
   "id": "0a7153c2",
   "metadata": {},
   "source": []
  },
  {
   "cell_type": "markdown",
   "id": "d31d23cb",
   "metadata": {},
   "source": [
    "___"
   ]
  },
  {
   "cell_type": "code",
   "execution_count": null,
   "id": "ecd4d5b2",
   "metadata": {},
   "outputs": [],
   "source": [
    "No logre entender este enunciado. Intente hacerle algunas mejoras pero sino tengo claro el objetivo.\n",
    "Se me dificulta saber tomar el camino correcto"
   ]
  },
  {
   "cell_type": "markdown",
   "id": "c815e543",
   "metadata": {},
   "source": [
    "# Fin"
   ]
  }
 ],
 "metadata": {
  "kernelspec": {
   "display_name": "Python 3 (ipykernel)",
   "language": "python",
   "name": "python3"
  },
  "language_info": {
   "codemirror_mode": {
    "name": "ipython",
    "version": 3
   },
   "file_extension": ".py",
   "mimetype": "text/x-python",
   "name": "python",
   "nbconvert_exporter": "python",
   "pygments_lexer": "ipython3",
   "version": "3.11.5"
  }
 },
 "nbformat": 4,
 "nbformat_minor": 5
}
