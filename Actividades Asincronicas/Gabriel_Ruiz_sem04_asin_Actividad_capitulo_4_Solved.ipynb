{
 "cells": [
  {
   "cell_type": "markdown",
   "id": "5d671b98",
   "metadata": {},
   "source": [
    "# Actividades Capítulo 4 - Estructuras de Datos\n",
    "\n",
    "Resumen de la actividad.\n",
    "\n",
    "\n",
    "- **1. Pilas y Colas**\n",
    "  - Actividad 1.2 - Implementar una Cola\n",
    "\n",
    "\n",
    "- **2. Búsqueda Secuencial**\n",
    "  - Actividad 2.1 - Búsqueda en una Lista\n",
    "\n",
    "\n",
    "- **3. Búsqueda Binaria**\n",
    "  - Actividad 3.1 - Búsqueda Binaria\n",
    "\n",
    "\n",
    "- **4. Tablas Hash**\n",
    "  - Actividad 4.1 - Implementar una Tabla Hash"
   ]
  },
  {
   "cell_type": "markdown",
   "id": "33866775",
   "metadata": {},
   "source": [
    "# Actividad: Implementación de una Pila en Python\n",
    "\n",
    "En esta actividad, tendrás la oportunidad de aplicar tus conocimientos sobre estructuras de datos y programación en Python para implementar una pila (stack). Una pila es una estructura de datos que sigue el principio \"Last-In-First-Out\" (LIFO), lo que significa que el último elemento que se agrega es el primero en ser eliminado.\n",
    "\n",
    "## Resumen:\n",
    "\n",
    "- **stack** = [ ]  # Recordando que una pila es básicamente una lista.\n",
    "- **append**: Método utilizado para agregar un elemento a la lista.\n",
    "- **pop**: Método usado para eliminar elementos de la lista, sino se especifica el índice se elimina el último elemento y retorna la lista resultante."
   ]
  },
  {
   "cell_type": "code",
   "execution_count": 3,
   "id": "fbb2dca1",
   "metadata": {},
   "outputs": [],
   "source": [
    "nombres_aleatorios = [\"Ana\", \"Carlos\", \"David\", \"Elena\", \"Fernando\", \"Gabriela\",\n",
    "                      \"Hugo\", \"Isabel\", \"Juan\", \"Luis\", \"Lucía\",\n",
    "                      \"Lorena\", \"Manuel\", \"María\", \"Miguel\", \"Natalia\",\n",
    "                      \"Nicolás\", \"Nora\", \"Óscar\", \"Olivia\", \"Pablo\", \"Paula\",\n",
    "                      \"Pedro\", \"Raquel\", \"Rafael\", \"Renata\", \"Roberto\", \"Rosario\",\n",
    "                      \"Sara\", \"Sergio\", \"Silvia\", \"Tomás\", \"Teresa\", \"Víctor\", \"Verónica\",\n",
    "                      \"Ximena\", \"Xavier\", \"Yolanda\", \"Yenny\", \"Zaira\", \"Zoe\", \"Zacarías\"]\n",
    "\n",
    "# Generar un código para revisar los nombres contenidos en la lista, y guardarlos en diferentes listas,\n",
    "# de acuerdo a la inicial del nombre, use los comandos usandos antenirmente y barra los elementos usando \n",
    "# el comando \"for nombre in nombres_aleatorios:\" al final del proceso la lista inicial debe quedar vacia."
   ]
  },
  {
   "cell_type": "code",
   "execution_count": 1,
   "id": "af29363e",
   "metadata": {},
   "outputs": [],
   "source": [
    "##codigo de la clase en linea 2--La mayor parte se explica solo en los comentarios\n",
    "\n",
    "\n",
    "#definimos una clase que tendra acciones\n",
    "class Pila:\n",
    "    def __init__(self):\n",
    "        self.items = []\n",
    "\n",
    "    def esta_vacia(self):\n",
    "        return self.items == []\n",
    "\n",
    "    def push(self, item):\n",
    "        self.items.append(item)\n",
    "\n",
    "    def pop(self):\n",
    "        return self.items.pop()\n",
    "    \n",
    "#las acciones fueron: iniciar,comprobar,ingresar,eliminar en ese orden\n"
   ]
  },
  {
   "cell_type": "code",
   "execution_count": 2,
   "id": "0aee68ba",
   "metadata": {},
   "outputs": [],
   "source": [
    "\n",
    "\n",
    "nombres_aleatorios = [\"Ana\", \"Carlos\", \"David\", \"Elena\", \"Fernando\", \"Gabriela\",\n",
    "                      \"Hugo\", \"Isabel\", \"Juan\", \"Luis\", \"Lucía\",\n",
    "                      \"Lorena\", \"Manuel\", \"María\", \"Miguel\", \"Natalia\",\n",
    "                      \"Nicolás\", \"Nora\", \"Óscar\", \"Olivia\", \"Pablo\", \"Paula\",\n",
    "                      \"Pedro\", \"Raquel\", \"Rafael\", \"Renata\", \"Roberto\", \"Rosario\",\n",
    "                      \"Sara\", \"Sergio\", \"Silvia\", \"Tomás\", \"Teresa\", \"Víctor\", \"Verónica\",\n",
    "                      \"Ximena\", \"Xavier\", \"Yolanda\", \"Yenny\", \"Zaira\", \"Zoe\", \"Zacarías\"]\n",
    "\n",
    "# Creamos un diccionario para almacenar las pilas de nombres por inicial\n",
    "nombres_por_inicial = {}\n"
   ]
  },
  {
   "cell_type": "code",
   "execution_count": 3,
   "id": "b7dc1398",
   "metadata": {},
   "outputs": [
    {
     "name": "stdout",
     "output_type": "stream",
     "text": [
      "Nombres con inicial 'A':\n",
      "Ana\n",
      "Nombres con inicial 'C':\n",
      "Carlos\n",
      "Nombres con inicial 'D':\n",
      "David\n",
      "Nombres con inicial 'E':\n",
      "Elena\n",
      "Nombres con inicial 'F':\n",
      "Fernando\n",
      "Nombres con inicial 'G':\n",
      "Gabriela\n",
      "Nombres con inicial 'H':\n",
      "Hugo\n",
      "Nombres con inicial 'I':\n",
      "Isabel\n",
      "Nombres con inicial 'J':\n",
      "Juan\n",
      "Nombres con inicial 'L':\n",
      "Lorena\n",
      "Lucía\n",
      "Luis\n",
      "Nombres con inicial 'M':\n",
      "Miguel\n",
      "María\n",
      "Manuel\n",
      "Nombres con inicial 'N':\n",
      "Nora\n",
      "Nicolás\n",
      "Natalia\n",
      "Nombres con inicial 'Ó':\n",
      "Óscar\n",
      "Nombres con inicial 'O':\n",
      "Olivia\n",
      "Nombres con inicial 'P':\n",
      "Pedro\n",
      "Paula\n",
      "Pablo\n",
      "Nombres con inicial 'R':\n",
      "Rosario\n",
      "Roberto\n",
      "Renata\n",
      "Rafael\n",
      "Raquel\n",
      "Nombres con inicial 'S':\n",
      "Silvia\n",
      "Sergio\n",
      "Sara\n",
      "Nombres con inicial 'T':\n",
      "Teresa\n",
      "Tomás\n",
      "Nombres con inicial 'V':\n",
      "Verónica\n",
      "Víctor\n",
      "Nombres con inicial 'X':\n",
      "Xavier\n",
      "Ximena\n",
      "Nombres con inicial 'Y':\n",
      "Yenny\n",
      "Yolanda\n",
      "Nombres con inicial 'Z':\n",
      "Zacarías\n",
      "Zoe\n",
      "Zaira\n"
     ]
    }
   ],
   "source": [
    "\n",
    "# Iteramos sobre la lista nombres_aleatorios\n",
    "for nombre in nombres_aleatorios:\n",
    "    inicial = nombre[0]  # Obtenemos la inicial del nombre\n",
    "    \n",
    "    # Verificamos si la inicial ya existe en el diccionario\n",
    "    if inicial in nombres_por_inicial:\n",
    "        # Si existe, simplemente agregamos el nombre a la pila correspondiente\n",
    "        nombres_por_inicial[inicial].push(nombre)\n",
    "    else:\n",
    "        # Si no existe, creamos una nueva pila con el nombre\n",
    "        nombres_por_inicial[inicial] = Pila()\n",
    "        nombres_por_inicial[inicial].push(nombre)\n",
    "\n",
    "# Vaciamos la lista nombres_aleatorios\n",
    "nombres_aleatorios.clear()\n",
    "\n",
    "# Mostramos los nombres organizados por inicial\n",
    "for inicial, pila_nombres in nombres_por_inicial.items():\n",
    "    print(f\"Nombres con inicial '{inicial}':\")\n",
    "    while not pila_nombres.esta_vacia():\n",
    "        print(pila_nombres.pop())"
   ]
  },
  {
   "cell_type": "markdown",
   "id": "490f04a8",
   "metadata": {},
   "source": [
    "# Actividad: Replique el código, mostrado en la presentación 36 correspondiente al capítulo 4.\n",
    "\n",
    "En este codódigo se muestra la creación de una clasa para crear una pila y hacer las actividades básicas correspondientes.\n",
    "\n",
    "- **__init__**: Creación de la pila.\n",
    "- **is_empty**: Verificación si la pila está vacia.\n",
    "- **push**: agregar elemento a la pila\n",
    "- **pop**:si la pila no está vacia eliminar el último de elemento.\n",
    "\n",
    "Use la notación mostrada en la presentacion 40, realice varias operaciones y comente brevemente los resultados (máximo 3 lineas), antes de pasar a la siguiente actividad asegurese de entender completamente la notación utilizada."
   ]
  },
  {
   "cell_type": "code",
   "execution_count": 4,
   "id": "950d71ca",
   "metadata": {},
   "outputs": [],
   "source": [
    "# Escriba su código en está celda y todos los comentarios necesarios en la misma celda.\n",
    "\n",
    "##Reutilizamos codigo ademas no estoy seguro a diapositiva o seccion se refiere pienso que es esta:\n",
    "#definimos una clase que tendra acciones\n",
    "class Pila:\n",
    "    def __init__(self):\n",
    "        self.items = []\n",
    "\n",
    "    def esta_vacia(self):\n",
    "        return self.items == []\n",
    "\n",
    "    def push(self, item):\n",
    "        self.items.append(item)\n",
    "\n",
    "    def pop(self):\n",
    "        return self.items.pop()\n",
    "    \n",
    "#las acciones fueron: iniciar,comprobar,ingresar,eliminar en ese orden\n",
    "\n",
    "\n",
    "\n"
   ]
  },
  {
   "cell_type": "code",
   "execution_count": 5,
   "id": "072f2649",
   "metadata": {},
   "outputs": [],
   "source": [
    "pila = Pila()\n",
    "#añadimos un elemto\n",
    "pila.push(10)"
   ]
  },
  {
   "cell_type": "code",
   "execution_count": 6,
   "id": "144b76f4",
   "metadata": {},
   "outputs": [
    {
     "data": {
      "text/plain": [
       "False"
      ]
     },
     "execution_count": 6,
     "metadata": {},
     "output_type": "execute_result"
    }
   ],
   "source": [
    "#comprobamos si esta vacia\n",
    "pila.esta_vacia()"
   ]
  },
  {
   "cell_type": "code",
   "execution_count": 7,
   "id": "79cc3a2b",
   "metadata": {},
   "outputs": [
    {
     "data": {
      "text/plain": [
       "True"
      ]
     },
     "execution_count": 7,
     "metadata": {},
     "output_type": "execute_result"
    }
   ],
   "source": [
    "#eliminamos y comprobamos si queda vacia\n",
    "pila.pop()\n",
    "pila.esta_vacia()"
   ]
  },
  {
   "cell_type": "markdown",
   "id": "5f2fe9e8",
   "metadata": {},
   "source": [
    "# Actividad: Búsqueda secuencial.\n",
    "\n",
    "Se tiene una lista de 10 ciudades organizadas en función de la densidad de población, escriba una función para retornar la posición ocupada.\n"
   ]
  },
  {
   "cell_type": "code",
   "execution_count": 9,
   "id": "dec8954f",
   "metadata": {},
   "outputs": [
    {
     "name": "stdout",
     "output_type": "stream",
     "text": [
      "4\n"
     ]
    }
   ],
   "source": [
    "ciudades = [\n",
    "    \"Daca, Bangladés\",\n",
    "    \"Karachi, Pakistán\",\n",
    "    \"Nueva Delhi, India\",\n",
    "    \"Manila, Filipinas\",\n",
    "    \"Seúl, Corea del Sur\",\n",
    "    \"Cantón, China\",\n",
    "    \"Taipéi, Taiwán\",\n",
    "    \"Chenaral, Chile\",\n",
    "    \"Shenzhen, China\",\n",
    "    \"Bombay, India\"\n",
    "]\n",
    "\n",
    "def obtener_posicion(ciudades, ciudad):\n",
    "    # Espaciós para desarrollar el código\n",
    "    \n",
    "    #establecemos la variable que contendra la informacion de la posicion. \n",
    "    #por default le agregamos un numero como identificador que nos retonre en caso no sea encontrado\n",
    "    posicion = -50\n",
    "    \n",
    "    for i, revisar_ciudad in enumerate(ciudades):\n",
    "        if revisar_ciudad == ciudad:\n",
    "            #si  encuentra la ciudad entre todas las ciudades asignamos esa posicion y obtenemos\n",
    "            posicion = i\n",
    "            break\n",
    "    return posicion\n",
    "\n",
    "posicion_ocupada = obtener_posicion(ciudades,\"Seúl, Corea del Sur\")\n",
    "print(posicion_ocupada)"
   ]
  },
  {
   "cell_type": "markdown",
   "id": "9fffd532",
   "metadata": {},
   "source": [
    "# Actividad: Búsqueda binaria.\n",
    "\n",
    "- Escriba al menos una ventaja de la busqueda binaria.\n",
    "- Replique el código mostrado en la presentación 192.\n",
    "- Explique brevemente el funcionamiento del código, maximo 3 lineas.\n",
    "- Ingrese un piso de ruptura del huevo y calcule cuantas veces se realiza la revisión para encontrar el piso seguro.(Se puede agrear algún contador dentro del código para verificar)\n"
   ]
  },
  {
   "cell_type": "code",
   "execution_count": 5,
   "id": "3f938721",
   "metadata": {},
   "outputs": [],
   "source": [
    "# Espacio para replicar el código.\n",
    "##Funciones\n",
    "def do_experiment(floor, breaking):\n",
    "\n",
    " global conta\n",
    " conta += 1\n",
    " if floor >= breaking:\n",
    "  return True\n",
    " else:\n",
    "  return False\n",
    "\n",
    "def find_highest_safe_floor2(height, breaking):\n",
    " \n",
    " low = 1\n",
    " high = height\n",
    " while low < high:\n",
    "  mid = (low + high) // 2\n",
    "  print(f\"Pisos: {low} - {high} - Medio: {mid}\")\n",
    "  if do_experiment(mid, breaking):\n",
    "   high = mid\n",
    "  else:\n",
    "   low = mid + 1\n",
    " return low - 1"
   ]
  },
  {
   "cell_type": "code",
   "execution_count": 6,
   "id": "bdc866e2",
   "metadata": {},
   "outputs": [
    {
     "name": "stdout",
     "output_type": "stream",
     "text": [
      "Ingrese el número de pisos: 100\n",
      "Ingrese el número del piso donde se romperá el huevo: 50\n",
      "Pisos: 1 - 100 - Medio: 50\n",
      "Pisos: 1 - 50 - Medio: 25\n",
      "Pisos: 26 - 50 - Medio: 38\n",
      "Pisos: 39 - 50 - Medio: 44\n",
      "Pisos: 45 - 50 - Medio: 47\n",
      "Pisos: 48 - 50 - Medio: 49\n",
      "El huevo estará a salvo hasta el piso 49 número\n",
      "Se realizaron 6 revisiones\n"
     ]
    }
   ],
   "source": [
    "# Inicio\n",
    "\n",
    "global conta\n",
    "conta = 0\n",
    "\n",
    "height = int(input(\"Ingrese el número de pisos: \"))\n",
    "breaking = int(input(\"Ingrese el número del piso donde se romperá el huevo: \"))\n",
    "\n",
    "\n",
    "floor = find_highest_safe_floor2(height, breaking)\n",
    "print(f\"El huevo estará a salvo hasta el piso {floor} número\")\n",
    "print(f\"Se realizaron {conta} revisiones\")\n",
    "\n",
    "\n",
    "\n",
    "\n",
    "# Espacio para explicar funcionamiento.\n",
    "##do experiment. compara si el huevo esta mas arriba del piso o punto de quiebre. \n",
    "##donde si esta mas arriba esta a salvo sino se quebro. cada que realize una comprobacion la contamos.\n",
    "##luego se hace la busqueda binaria donde se divide por mitad los pisos hasta encontrar el punto a salvo\n",
    "\n",
    "\n",
    "# Cálculo y verificación del número de veces que se realiza la verificación.\n",
    "\n",
    "\n"
   ]
  },
  {
   "cell_type": "markdown",
   "id": "eb266a1e",
   "metadata": {},
   "source": [
    "# Actividad: Definir una tabla Hash tipo diccionario.\n",
    "\n",
    "En la siguiente celda se muestrar como crear un diccionario, como agregar elementos, como eliminar elementos,\n",
    "como verificar si la key existe en el diccionario, basados en este código agregue otros elementos, comente los resultados, si tienes alguna duda también la puedes escribir. (Use máximo 3 líneas en la explicación)\n"
   ]
  },
  {
   "cell_type": "code",
   "execution_count": 11,
   "id": "f48163a5",
   "metadata": {},
   "outputs": [
    {
     "name": "stdout",
     "output_type": "stream",
     "text": [
      "Nombre: Juan\n",
      "Edad: 30\n",
      "Ciudad: Nueva York\n",
      "La clave 'ciudad' no está en el diccionario.\n"
     ]
    }
   ],
   "source": [
    "# Crear un diccionario vacío\n",
    "mi_diccionario = {}\n",
    "\n",
    "# Agregar elementos al diccionario\n",
    "mi_diccionario[\"nombre\"] = \"Juan\"\n",
    "mi_diccionario[\"edad\"] = 30\n",
    "mi_diccionario[\"ciudad\"] = \"Nueva York\"\n",
    "\n",
    "# Acceder a los valores por clave\n",
    "print(\"Nombre:\", mi_diccionario[\"nombre\"])\n",
    "print(\"Edad:\", mi_diccionario[\"edad\"])\n",
    "print(\"Ciudad:\", mi_diccionario[\"ciudad\"])\n",
    "\n",
    "# Modificar un valor existente\n",
    "mi_diccionario[\"edad\"] = 31\n",
    "\n",
    "# Eliminar un elemento del diccionario\n",
    "del mi_diccionario[\"ciudad\"]\n",
    "\n",
    "# Verificar si una clave existe en el diccionario\n",
    "if \"ciudad\" in mi_diccionario:\n",
    "    print(\"La clave 'ciudad' está en el diccionario.\")\n",
    "else:\n",
    "    print(\"La clave 'ciudad' no está en el diccionario.\")"
   ]
  },
  {
   "cell_type": "code",
   "execution_count": 13,
   "id": "f8f317bf",
   "metadata": {},
   "outputs": [],
   "source": [
    "#agregamos otros datos y verifcamos el diccionario\n",
    "otro_usuario = {}\n",
    "otro_usuario[\"nombre\"] = \"Gaby\"\n",
    "otro_usuario[\"edad\"] = 20\n",
    "otro_usuario[\"ciudad\"] = \"Panamá\"\n",
    "#agregamos correo de contacto\n",
    "otro_usuario[\"correo\"] = \"gabriel.ruiz.student.com\"\n",
    "\n",
    "#creamos un dicciona de personas donde dentro tendra el diccionario principal y la nueva persona\n",
    "mi_diccionario[\"personas\"] = [mi_diccionario, otro_usuario]\n"
   ]
  },
  {
   "cell_type": "code",
   "execution_count": 14,
   "id": "54833668",
   "metadata": {},
   "outputs": [
    {
     "data": {
      "text/plain": [
       "{'nombre': 'Juan',\n",
       " 'edad': 31,\n",
       " 'personas': [{...},\n",
       "  {'nombre': 'Gaby',\n",
       "   'edad': 20,\n",
       "   'ciudad': 'Panamá',\n",
       "   'correo': 'gabriel.ruiz.student.com'}]}"
      ]
     },
     "execution_count": 14,
     "metadata": {},
     "output_type": "execute_result"
    }
   ],
   "source": [
    "#verificamos lo que tenemos\n",
    "mi_diccionario"
   ]
  },
  {
   "cell_type": "code",
   "execution_count": 18,
   "id": "4480b39a",
   "metadata": {},
   "outputs": [
    {
     "name": "stdout",
     "output_type": "stream",
     "text": [
      "Nombre1: Juan\n",
      "Nombre2: Gaby\n"
     ]
    }
   ],
   "source": [
    "#Solo un intento de ingresar otra persona al diccionario pero no es ideal hay que cambiar la estructura\n",
    "#puede presentarse fallos. ideal fuera crear mi diccionario el campo persona como principal y luego dentro cada paramero\n",
    "#como ciudad, correo el nombre y asi.\n",
    "print(\"Nombre1:\", mi_diccionario[\"personas\"][0][\"nombre\"])\n",
    "print(\"Nombre2:\", mi_diccionario[\"personas\"][1][\"nombre\"])"
   ]
  },
  {
   "cell_type": "code",
   "execution_count": null,
   "id": "95c690cb",
   "metadata": {},
   "outputs": [],
   "source": []
  }
 ],
 "metadata": {
  "kernelspec": {
   "display_name": "Python 3 (ipykernel)",
   "language": "python",
   "name": "python3"
  },
  "language_info": {
   "codemirror_mode": {
    "name": "ipython",
    "version": 3
   },
   "file_extension": ".py",
   "mimetype": "text/x-python",
   "name": "python",
   "nbconvert_exporter": "python",
   "pygments_lexer": "ipython3",
   "version": "3.11.5"
  }
 },
 "nbformat": 4,
 "nbformat_minor": 5
}
