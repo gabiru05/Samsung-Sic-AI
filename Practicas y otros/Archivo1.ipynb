{
 "cells": [
  {
   "cell_type": "code",
   "execution_count": 1,
   "id": "5fce3ee3",
   "metadata": {},
   "outputs": [
    {
     "name": "stdout",
     "output_type": "stream",
     "text": [
      "Hola Gaby\n"
     ]
    }
   ],
   "source": [
    "print(\"Hola Gaby\")"
   ]
  },
  {
   "cell_type": "code",
   "execution_count": 1,
   "id": "9f6fd993",
   "metadata": {},
   "outputs": [
    {
     "name": "stdout",
     "output_type": "stream",
     "text": [
      "Hello! I will introduce myself.\n",
      "***************************\n",
      "Name: Gabriel Ruiz\n",
      "Age: 20\n",
      "Job: Software Engineer student\n",
      "---------------------------\n"
     ]
    }
   ],
   "source": [
    "\n",
    "\n",
    "print(\"Hello! I will introduce myself.\")\n",
    "\n",
    "print('***************************')\n",
    "\n",
    "\n",
    "print('Name: Gabriel Ruiz')\n",
    "print('Age: 20')\n",
    "print('Job: Software Engineer student')\n",
    "\n",
    "\n",
    "print('---------------------------')\n"
   ]
  },
  {
   "cell_type": "code",
   "execution_count": null,
   "id": "76a6df44",
   "metadata": {},
   "outputs": [],
   "source": []
  }
 ],
 "metadata": {
  "kernelspec": {
   "display_name": "Python 3 (ipykernel)",
   "language": "python",
   "name": "python3"
  },
  "language_info": {
   "codemirror_mode": {
    "name": "ipython",
    "version": 3
   },
   "file_extension": ".py",
   "mimetype": "text/x-python",
   "name": "python",
   "nbconvert_exporter": "python",
   "pygments_lexer": "ipython3",
   "version": "3.11.5"
  }
 },
 "nbformat": 4,
 "nbformat_minor": 5
}
