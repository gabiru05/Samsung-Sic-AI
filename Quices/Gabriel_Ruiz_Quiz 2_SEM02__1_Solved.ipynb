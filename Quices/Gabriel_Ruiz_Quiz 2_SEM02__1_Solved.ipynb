{
 "cells": [
  {
   "cell_type": "markdown",
   "id": "5ad8356f",
   "metadata": {},
   "source": [
    "# Coding and Programming\n",
    "\n",
    "## Capítulo 2\n",
    "\n",
    "### Programación básica de python - Secuencia de datos escrita en python\n",
    "\n",
    "- **Unidad 10.** Tipos de datos lista y tupla Tipos de datos lista y tupla\n",
    "- **Unidad 11.** Tipos de datos de diccionario Tipos de datos de diccionario\n",
    "- **Unidad 12.** Tipos de datos de secuencia\n",
    "- **Unidad 13.** Listas 2D\n",
    "- **Unidad 14.** Método del diccionario-1\n",
    "- **Unidad 15.** Método del diccionario-2\n",
    "- **Unidad 16.** Establecer tipos de datos\n",
    "\n",
    "# Quiz 2"
   ]
  },
  {
   "cell_type": "markdown",
   "id": "d390681d",
   "metadata": {},
   "source": [
    "___"
   ]
  },
  {
   "cell_type": "markdown",
   "id": "8c5aa9c8",
   "metadata": {},
   "source": [
    "## Q 10-01\n",
    "\n",
    "Si hay dos listas `l1` y `l2` con las siguientes cadenas, use la combinación de `l1` y `l2` para imprimir de la siguiente manera.\n",
    "\n",
    "**Pauta de codificación:** use bucles anidados e imprímalos.\n",
    "\n",
    "```\n",
    "l1 = ['I like','I love']\n",
    "l1 = ['pancake.','kiwi juice.','espresso.']\n",
    "```\n",
    "\n",
    "### Output\n",
    "```\n",
    "I like pancake.\n",
    "I like kiwi juice.\n",
    "I like espresso.\n",
    "I love pancake.\n",
    "I love kiwi juice.\n",
    "I love espresso.\n",
    "```"
   ]
  },
  {
   "cell_type": "markdown",
   "id": "7727cb83",
   "metadata": {},
   "source": []
  },
  {
   "cell_type": "code",
   "execution_count": 1,
   "id": "0bb77620",
   "metadata": {},
   "outputs": [
    {
     "name": "stdout",
     "output_type": "stream",
     "text": [
      "I like pancake.\n",
      "I like kiwi juice.\n",
      "I like espresso.\n",
      "I love pancake.\n",
      "I love kiwi juice.\n",
      "I love espresso.\n"
     ]
    }
   ],
   "source": [
    "l1 = ['I like', 'I love']\n",
    "l2 = ['pancake.', 'kiwi juice.', 'espresso.']\n",
    "\n",
    "#Escojemos un elemento de la lista 1 y esa primera opcion se combinará con cada opcion2\n",
    "for lista1 in l1:\n",
    "    for opcion2 in l2:\n",
    "        print(f\"{lista1} {opcion2}\")\n"
   ]
  },
  {
   "cell_type": "markdown",
   "id": "e85ac74a",
   "metadata": {},
   "source": [
    "___"
   ]
  },
  {
   "cell_type": "markdown",
   "id": "56dfda7c",
   "metadata": {},
   "source": [
    "## Q 11-01\n",
    "\n",
    "El diccionario de personas se define de la siguiente manera.\n",
    "\n",
    "Agregue un nuevo elemento a este diccionario de personas con la clave 'Padre' y el valor 'John Doe'.\n",
    "\n",
    "**Pauta de codificación:** después de definir el diccionario de personas, escriba el código para agregar nuevos elementos.\n",
    "\n",
    "`person = {'Name':'David Doe', 'Age':26, 'Weight':82, 'Job':'Data Scientist'}`"
   ]
  },
  {
   "cell_type": "markdown",
   "id": "e9529d25",
   "metadata": {},
   "source": []
  },
  {
   "cell_type": "markdown",
   "id": "d24e8e2d",
   "metadata": {},
   "source": [
    "___"
   ]
  },
  {
   "cell_type": "code",
   "execution_count": 2,
   "id": "9548deea",
   "metadata": {},
   "outputs": [
    {
     "name": "stdout",
     "output_type": "stream",
     "text": [
      "{'Name': 'David Doe', 'Age': 26, 'Weight': 82, 'Job': 'Data Scientist', 'Padre': 'John Doe'}\n"
     ]
    }
   ],
   "source": [
    "person = {'Name':'David Doe', 'Age':26, 'Weight':82, 'Job':'Data Scientist'}\n",
    "#actualizamos el diccionario utilizando el metodo update que permite modificar y añadir elementos\n",
    "person.update({'Padre': 'John Doe'})\n",
    "\n",
    "print(person)\n"
   ]
  },
  {
   "cell_type": "markdown",
   "id": "6e95c374",
   "metadata": {},
   "source": [
    "## Q 12-01\n",
    "\n",
    "Al usar datos de tupla, los valores de dos variables se pueden intercambiar sin usar una variable temporal. Usando este método de intercambio, escriba un programa que reemplace el valor más grande de 12 en la lista dada, y pase a la posición del último.\n",
    "\n",
    "**Pauta de codificación:** use un bucle `for`. Al intercambiar valores en una lista, no se deben usar variables adicionales como temp.\n",
    "\n",
    "`lista = [5,6,3,9,2,12,3,8,7]`"
   ]
  },
  {
   "cell_type": "markdown",
   "id": "417ea34e",
   "metadata": {},
   "source": []
  },
  {
   "cell_type": "markdown",
   "id": "66002865",
   "metadata": {},
   "source": [
    "___"
   ]
  },
  {
   "cell_type": "code",
   "execution_count": 10,
   "id": "33043e22",
   "metadata": {},
   "outputs": [
    {
     "name": "stdout",
     "output_type": "stream",
     "text": [
      "lista original: [5, 6, 3, 9, 2, 12, 3, 8, 7]\n",
      "Mayor se encuentra en la posicion: 5\n",
      "longitud: 9, longitud verdadero es: 8\n",
      "[5, 6, 3, 9, 2, 7, 3, 8, 12]\n"
     ]
    }
   ],
   "source": [
    "lista = [5, 6, 3, 9, 2, 12, 3, 8, 7]\n",
    "print(f\"lista original: {lista}\")\n",
    "\n",
    "# Encontrar el índice del valor --12-- en la lista que es el mayor\n",
    "mayor = lista.index(12)\n",
    "print(f\"Mayor se encuentra en la posicion: {mayor}\")\n",
    "\n",
    "largo=len(lista)\n",
    "#recordar que el tamañao de lista es tamaño -1\n",
    "#recordar se empieza contando con el 0\n",
    "print(f\"longitud: {largo}, longitud verdadero es: {largo-1}\")\n",
    "\n",
    "#nota: no entendi bien como aplicar el bucle ya que tenia los datos del cual es el mayor y cual deseo\n",
    "#intercambiar que es el ultimo elemento pude hacerlo directo sin que tenga que encontrar el numero de nuevo\n",
    "\n",
    "#recorremos toda la lista hasta el ultimo elemento que tenga.\n",
    "for i in range(len(lista)):\n",
    "    #si --i-- es igual al indice que buscamos lo intercambiamos por el ultimo\n",
    "    if i == mayor:\n",
    "        #hacemos referencia exacta al elemento  que deseamos intercambiar y lo realizamos\n",
    "        #recordamos que lista -1 hace referencia al ultimo elemento siendo el primer elemento de derecha a izquierda\n",
    "        lista[i], lista[-1] = lista[-1], lista[i]\n",
    "\n",
    "# Imprimimos la lista actualizada\n",
    "print(lista)\n",
    "\n",
    "\n",
    "\n"
   ]
  },
  {
   "cell_type": "markdown",
   "id": "abff5088",
   "metadata": {},
   "source": [
    "## Q 13-01\n",
    "\n",
    "La matriz bidimensional `a` contiene los valores `[[1, 2], [3, 4], [5, 6]]`.\n",
    "\n",
    "Cambie esta matriz bidimensional a una matriz unidimensional como `[1, 2, 3, 4, 5, 6]` e imprímala.\n",
    "\n",
    "\n",
    "**Pauta de codificación:** use un bucle `for`. Defina una nueva matriz y coloque los elementos de a en esta matriz."
   ]
  },
  {
   "cell_type": "markdown",
   "id": "4787d474",
   "metadata": {},
   "source": []
  },
  {
   "cell_type": "code",
   "execution_count": 12,
   "id": "08a1d271",
   "metadata": {},
   "outputs": [
    {
     "name": "stdout",
     "output_type": "stream",
     "text": [
      " Matriz bidimensional:  [[1, 2], [3, 4], [5, 6]]\n",
      " Matriz unidimensional:  [1, 2, 3, 4, 5, 6]\n"
     ]
    }
   ],
   "source": [
    "matriz_bidimensional = [[1, 2], [3, 4], [5, 6]]\n",
    "\n",
    "#creamos una matriz vacia de una dimension \n",
    "matriz_unidimensional = []\n",
    "\n",
    "#utilizamos un bucle para recorrer cada elemento en la matriz bidimensional e ingresarlo a la nueva matriz\n",
    "#utilicé el metodo .extend para añadir los nuevos elementos a la matriz unidimensional\n",
    "#pero se puede hacer utilizando tambien variables temporales y asignarlas solo que no es tan eficaz\n",
    "\n",
    "for cada_elemento in matriz_bidimensional:\n",
    "    matriz_unidimensional.extend(cada_elemento)\n",
    "\n",
    "print(f\" Matriz bidimensional:  {matriz_bidimensional}\")\n",
    "print(f\" Matriz unidimensional:  {matriz_unidimensional}\")\n"
   ]
  },
  {
   "cell_type": "markdown",
   "id": "1061ef6e",
   "metadata": {},
   "source": [
    "___"
   ]
  },
  {
   "cell_type": "markdown",
   "id": "74144e33",
   "metadata": {},
   "source": [
    "## Q 14-01\n",
    "\n",
    "Dada un diccionario en la variable **maria** que contiene las puntuaciones de los cursos 'coreano', 'inglés', 'matemáticas' y 'ciencia', se almacenan como clave:valor. Imprima el puntaje promedio para los puntajes de las asignaturas de maría.\n",
    "\n",
    "**Guía de codificación:** Utilice los métodos de diccionario **values()** y **len()** funciones.\n",
    "\n",
    "`maria = { 'korean':94, 'english':91, 'maths':89, 'science':83 }`"
   ]
  },
  {
   "cell_type": "markdown",
   "id": "7ac331bf",
   "metadata": {},
   "source": []
  },
  {
   "cell_type": "markdown",
   "id": "a43a9094",
   "metadata": {},
   "source": [
    "___"
   ]
  },
  {
   "cell_type": "code",
   "execution_count": 16,
   "id": "0eb60e2c",
   "metadata": {},
   "outputs": [
    {
     "name": "stdout",
     "output_type": "stream",
     "text": [
      " puntajes: dict_values([94, 91, 89, 83]) \n",
      "\n",
      " Sumatoria de puntajes: 357\n",
      "\n",
      " cantidad de notas en la lista: 4\n",
      "\n",
      " Puntaje promedio: 89.25\n",
      "\n"
     ]
    }
   ],
   "source": [
    "maria = {'korean': 94, 'english': 91, 'maths': 89, 'science': 83}\n",
    "\n",
    "# Calcular el puntaje promedio\n",
    "puntajes = maria.values()\n",
    "print(f\" puntajes: {puntajes} \\n\")\n",
    "\n",
    "sum_prom = sum(puntajes)\n",
    "print(f\" Sumatoria de puntajes: {sum_prom}\\n\")\n",
    "\n",
    "#recordar que len se utilizar para obtener longitud de listas\n",
    "cantidad_puntaje = len(puntajes)\n",
    "print(f\" cantidad de notas en la lista: {cantidad_puntaje}\\n\")\n",
    "\n",
    "\n",
    "promedio = sum_prom / cantidad_puntaje\n",
    "\n",
    "# Imprimir el puntaje promedio\n",
    "print(f\" Puntaje promedio: {promedio}\\n\")\n"
   ]
  },
  {
   "cell_type": "markdown",
   "id": "3bf0a55c",
   "metadata": {},
   "source": [
    "## Q 15-01\n",
    "\n",
    "Declare una variable `school` con un diccionario anidado de la siguiente manera.\n",
    "\n",
    "```\n",
    "school = {\n",
    "    'kim':{ 'age':16, 'hei':170, grade:3 },\n",
    "    'lee':{ 'age':15, 'hei':165, grade:2 },\n",
    "    'cho':{ 'age':14, 'hei':167, grade:1 },\n",
    "}\n",
    "```\n",
    "\n",
    "\n",
    "Luego, use la función `deepcopy()` del módulo de copia para escribir un programa que 'copie' a otra variable, `school2`. (Verifique que `school` y `school2` sean variables diferentes a través del operador `is`).\n",
    "\n",
    "**Pauta de codificación:** Imprima el resultado de `school is school2`, que debe ser falso."
   ]
  },
  {
   "cell_type": "markdown",
   "id": "128e8efe",
   "metadata": {},
   "source": []
  },
  {
   "cell_type": "code",
   "execution_count": 20,
   "id": "4cd439cd",
   "metadata": {},
   "outputs": [
    {
     "name": "stdout",
     "output_type": "stream",
     "text": [
      "school is school2: False\n"
     ]
    }
   ],
   "source": [
    "school = {\n",
    "    'kim': {'age': 16, 'hei': 170, 'grade': 3},\n",
    "    'lee': {'age': 15, 'hei': 165, 'grade': 2},\n",
    "    'cho': {'age': 14, 'hei': 167, 'grade': 1},\n",
    "}\n",
    "\n",
    "#hacemos la copia con la funcion deepcopy()\n",
    "school2 = copy.deepcopy(school)\n",
    "\n",
    "# hacemos la comparacion\n",
    "son_iguales = school is school2\n",
    "\n",
    "#mostramos si es igual o no\n",
    "print(f\"school is school2: {son_iguales}\")"
   ]
  },
  {
   "cell_type": "markdown",
   "id": "77fe3368",
   "metadata": {},
   "source": [
    "___"
   ]
  },
  {
   "cell_type": "markdown",
   "id": "caeada5b",
   "metadata": {},
   "source": [
    "## Q 16-01\n",
    "\n",
    "Hay una tupla de puntuaciones de la siguiente manera.\n",
    "\n",
    "```\n",
    "scores = (\n",
    "    ('DongKyu Park' , 88, 95, 90),\n",
    "    ('YoungMin Kang', 85, 90, 95),\n",
    "    ('DongMin Park' , 70, 90, 80),\n",
    "    ('Seungloo Hong', 90, 90, 95),\n",
    ")\n",
    "```\n",
    "\n",
    "\n",
    "Esta tupla contiene información sobre cuatro estudiantes.\n",
    "\n",
    "En esta información, el nombre del estudiante y las calificaciones en inglés, matemáticas y ciencias forman una tupla.\n",
    "\n",
    "Por ejemplo, 'David Doe' tiene un puntaje de inglés de 88, un puntaje de matemáticas de 95 y un puntaje de ciencias de 90.\n",
    "\n",
    "Extraiga solo puntajes matemáticos desempaquetando usando la función zip en la tupla del puntaje. Escriba un código que calcule el promedio de estos puntajes matemáticos extraídos.\n",
    "\n",
    "**Pauta de código:** use la función **zip** para resolver el problema"
   ]
  },
  {
   "cell_type": "markdown",
   "id": "5f26e5d1",
   "metadata": {},
   "source": [
    "___"
   ]
  },
  {
   "cell_type": "code",
   "execution_count": 40,
   "id": "3aa09598",
   "metadata": {},
   "outputs": [
    {
     "name": "stdout",
     "output_type": "stream",
     "text": [
      "math: (95, 90, 90, 90)\n",
      "math: 365\n",
      "long: 4\n",
      "Promedio de matemática: 91.25\n"
     ]
    },
    {
     "data": {
      "text/plain": [
       "'hola Gaby'"
      ]
     },
     "execution_count": 40,
     "metadata": {},
     "output_type": "execute_result"
    }
   ],
   "source": [
    "scores = (\n",
    "    ('DongKyu Park' , 88, 95, 90),\n",
    "    ('YoungMin Kang', 85, 90, 95),\n",
    "    ('DongMin Park' , 70, 90, 80),\n",
    "    ('Seungloo Hong', 90, 90, 95),\n",
    ")\n",
    "\n",
    "#aplicamos una barra abajo para omitir y solamente obtener los datos de la columna 2\n",
    "#a su vez aplicamos el nombre que recibira esa tupla\n",
    "_, _, math, _ = zip(*scores)\n",
    "print(\"math:\", math)\n",
    "\n",
    "#Aplicamos la sumatoria de todos los elementos dentro de math\n",
    "sum_math = sum(math)\n",
    "print(\"math:\", sum_math)\n",
    "\n",
    "#obtenemos longitud\n",
    "long= len(math)\n",
    "print(\"long:\", long)\n",
    "\n",
    "\n",
    "#Mostramos promedio de matematicas solamente\n",
    "prom_math = sum_math / long\n",
    "print(\"Promedio de matemática:\", prom_math)\n",
    "\n",
    "\n",
    "\n",
    "#Si deseo extraer todo solo asigno un nombre para acceder a esas lista despues \n",
    "###nombres, ingles, math, ciencia = zip(*scores)\n",
    "\n",
    "#Imprimo las listas que han sido separadas por columna\n",
    "##print(\"Nombres:\", nombres)\n",
    "##print(\"ingles:\", ingles)\n",
    "##print(\"math:\", math)\n",
    "##print(\"ciencia:\", ciencia)\n",
    "\n",
    "#Nota: Al parecer las triple comillas se considera texto todo lo que este dentro\n",
    "#ya que jupyter consideras estas imprimiendo\n",
    "saludo=\"hola Gaby\"\n",
    "\n",
    "#similar a realizar esta accion:\n",
    "saludo\n"
   ]
  },
  {
   "cell_type": "markdown",
   "id": "ed04e881",
   "metadata": {},
   "source": [
    "## Fin"
   ]
  }
 ],
 "metadata": {
  "kernelspec": {
   "display_name": "Python 3 (ipykernel)",
   "language": "python",
   "name": "python3"
  },
  "language_info": {
   "codemirror_mode": {
    "name": "ipython",
    "version": 3
   },
   "file_extension": ".py",
   "mimetype": "text/x-python",
   "name": "python",
   "nbconvert_exporter": "python",
   "pygments_lexer": "ipython3",
   "version": "3.11.5"
  }
 },
 "nbformat": 4,
 "nbformat_minor": 5
}
