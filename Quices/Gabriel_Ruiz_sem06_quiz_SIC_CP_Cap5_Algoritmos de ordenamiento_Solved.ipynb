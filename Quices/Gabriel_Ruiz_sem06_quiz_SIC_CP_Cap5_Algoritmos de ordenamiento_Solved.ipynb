{
 "cells": [
  {
   "cell_type": "markdown",
   "id": "5ad8356f",
   "metadata": {},
   "source": [
    "# Coding and Programming\n",
    "\n",
    "## Capítulo 5\n",
    "\n",
    "### Algoritmos de clasificación\n",
    "\n",
    "- **Unidad 27.** Ordenamiento de burbuja, (Bubble Sort) algoritmo de ordenamiento, selección e inserción\n",
    "- **Unidad 28.** Ordenar por selección, ordenamiento por inserción.\n",
    "- **Unidad 29.** Clasificación rápida\n"
   ]
  },
  {
   "cell_type": "markdown",
   "id": "2e42031a",
   "metadata": {},
   "source": [
    "___"
   ]
  },
  {
   "cell_type": "markdown",
   "id": "8c5aa9c8",
   "metadata": {},
   "source": [
    "## Q 27-01\n",
    "\n",
    "¿Cuántas comparaciones se ejecutaron en el siguiente proceso de ordenamiento de burbuja?\n",
    "```\n",
    "def bubbleSort(S):\n",
    "    n = len(S)\n",
    "    for i in range(n):\n",
    "        print(S)\n",
    "        for j in range(n-1):\n",
    "            if S[j] > S[j+1]:\n",
    "               S[j] , S[j+1] = S[j+1] , S[j]\n",
    "\n",
    "S = [50, 30, 40, 10, 20]\n",
    "bubbleSort(S)\n",
    "print(S)\n",
    "```\n",
    "#### Output\n",
    "```\n",
    "[50, 30, 40, 10, 20]\n",
    "[30, 40, 10, 20, 50]\n",
    "[30, 10, 20, 40, 50]\n",
    "[10, 20, 30, 40, 50]\n",
    "[10, 20, 30, 40, 50]\n",
    "[10, 20, 30, 40, 50]\n",
    "```"
   ]
  },
  {
   "cell_type": "markdown",
   "id": "ac65e987",
   "metadata": {},
   "source": []
  },
  {
   "cell_type": "markdown",
   "id": "07be4f9d",
   "metadata": {},
   "source": [
    "___"
   ]
  },
  {
   "cell_type": "code",
   "execution_count": null,
   "id": "aa36f642",
   "metadata": {},
   "outputs": [],
   "source": [
    "#Por conocimiento se que el algoritmo de burbuja y del codigo\n",
    "#tengo dos bucles uno con ejecucion n-1 y el externo n\n",
    "#si queremos medir las comparaciones o calcular el tiempo del algoritmo\n",
    "#seria (n-1 )x n\n",
    "#como tenemos 5 elementos siendo n \n",
    "#(5-1) *5 = 20 comparaciones"
   ]
  },
  {
   "cell_type": "markdown",
   "id": "a11871f3",
   "metadata": {},
   "source": [
    "## Q 27-02\n",
    "\n",
    "¿Cuántas comparaciones se ejecutaron en el siguiente proceso de ordenamiento de inserción?\n",
    "```\n",
    "def insertionSort2(S):\n",
    "    n = len(S)\n",
    "    for i in range(1,n):\n",
    "        print(S)\n",
    "        x = S[i]\n",
    "        j = i - 1\n",
    "        while j >= 0 and S[j] > x:\n",
    "            S[j+1] = S[j]\n",
    "            j -= 1\n",
    "        S[j + 1] = x\n",
    "\n",
    "S = [50, 30, 40, 10, 20]\n",
    "insertionSort2(S)\n",
    "print(S)\n",
    "```\n",
    "#### Output\n",
    "```\n",
    "[50, 30, 40, 10, 20]\n",
    "[30, 40, 10, 20, 50]\n",
    "[30, 10, 20, 40, 50]\n",
    "[10, 20, 30, 40, 50]\n",
    "[10, 20, 30, 40, 50]\n",
    "[10, 20, 30, 40, 50]\n",
    "```"
   ]
  },
  {
   "cell_type": "code",
   "execution_count": 3,
   "id": "30a1c729",
   "metadata": {},
   "outputs": [
    {
     "name": "stdout",
     "output_type": "stream",
     "text": [
      "[50, 30, 40, 10, 20]\n",
      "[30, 50, 40, 10, 20]\n",
      "[30, 40, 50, 10, 20]\n",
      "[10, 30, 40, 50, 20]\n",
      "[10, 20, 30, 40, 50]\n",
      "Comparaciones:  8\n"
     ]
    }
   ],
   "source": [
    "#calcular manualmente los intercambios en esta ocasion por el tipo de algoritmo puede ser mas complicado\n",
    "\n",
    "\n",
    "def insertionSort2(S):\n",
    "    conta=0\n",
    "    n = len(S)\n",
    "    for i in range(1,n):\n",
    "        print(S)\n",
    "        x = S[i]\n",
    "        j = i - 1\n",
    "        while j >= 0 and S[j] > x:\n",
    "            S[j+1] = S[j]\n",
    "            j -= 1\n",
    "            conta +=1\n",
    "        S[j + 1] = x\n",
    "    return conta\n",
    "\n",
    "S = [50, 30, 40, 10, 20]\n",
    "\n",
    "conta=insertionSort2(S)\n",
    "print(S)\n",
    "\n",
    "print(\"Comparaciones: \",conta)"
   ]
  },
  {
   "cell_type": "markdown",
   "id": "05c7586b",
   "metadata": {},
   "source": [
    "tuvimos implementar unas modificaciones para conocer el numero de comparaciones en este caso 8"
   ]
  },
  {
   "cell_type": "markdown",
   "id": "a207d974",
   "metadata": {},
   "source": [
    "## Q 28-01\n",
    "\n",
    "¿Cuántas veces se ejecuta la función `merge2()` en el siguiente proceso de ordenamiento por fusión?\n",
    "```\n",
    "S = [6,2,11,7,5,4,8,16,10,3]\n",
    "mergeSort2(S, 0, len(S)-1)\n",
    "print(S)\n",
    "```"
   ]
  },
  {
   "cell_type": "code",
   "execution_count": 8,
   "id": "d956423d",
   "metadata": {},
   "outputs": [
    {
     "name": "stdout",
     "output_type": "stream",
     "text": [
      "[6, 2, 11, 7, 5, 4, 8, 16, 10, 3]\n",
      "[6, 2, 11, 7, 5, 4, 8, 16, 10, 3]\n",
      "[6, 2, 11, 7, 5, 4, 8, 16, 10, 3]\n",
      "[6, 2, 11, 7, 5, 4, 8, 16, 10, 3]\n",
      "[2, 6, 11, 7, 5, 4, 8, 16, 10, 3]\n",
      "[2, 5, 6, 7, 11, 4, 8, 16, 10, 3]\n",
      "[2, 5, 6, 7, 11, 4, 8, 16, 10, 3]\n",
      "[2, 5, 6, 7, 11, 4, 8, 16, 10, 3]\n",
      "[2, 5, 6, 7, 11, 4, 8, 16, 10, 3]\n",
      "[2, 3, 4, 5, 6, 7, 8, 10, 11, 16]\n",
      "veces ejecuto merge2:  9\n"
     ]
    }
   ],
   "source": [
    "conta=0\n",
    "\n",
    "def mergesort2(S, low, high):\n",
    "    global conta\n",
    "    if low < high:\n",
    "        print(S)\n",
    "        mid = (low + high) // 2\n",
    "        mergesort2(S, low, mid)\n",
    "        mergesort2(S, mid + 1, high)\n",
    "        merge2(S, low, mid, high)\n",
    "        conta += 1\n",
    "\n",
    "def merge2(S, low, mid, high):\n",
    "    R = []\n",
    "    i, j = low, mid + 1\n",
    "    while i <= mid and j <= high:\n",
    "        if S[i] < S[j]:\n",
    "            R.append(S[i]); i += 1\n",
    "        else:\n",
    "            R.append(S[j]); j += 1\n",
    "    while i <= mid:\n",
    "        R.append(S[i]); i += 1\n",
    "    while j <= high:\n",
    "        R.append(S[j]); j += 1\n",
    "    for k in range(len(R)):\n",
    "        S[low + k] = R[k]\n",
    "\n",
    "\n",
    "\n",
    "S = [6,2,11,7,5,4,8,16,10,3]\n",
    "mergesort2(S, 0, len(S)-1)\n",
    "print(S)\n",
    "\n",
    "print(\"veces ejecuto merge2: \", conta,)\n"
   ]
  },
  {
   "cell_type": "markdown",
   "id": "26a6bb9e",
   "metadata": {},
   "source": [
    "## Q 29-01\n",
    "\n",
    "Dada la lista a continuación, escriba la salida después de ejecutar la función `partition1()`\n",
    "```\n",
    "S = [15,10,12,20,25,13,22]\n",
    "partition1(S, 0, len(S)-1)\n",
    "print(S)\n",
    "```\n",
    "#### Output\n",
    "```\n",
    "[15,10,12,20,25,13,22] 0 6 pivot = 15\n",
    "...\n",
    "```\n"
   ]
  },
  {
   "cell_type": "code",
   "execution_count": 11,
   "id": "b774387f",
   "metadata": {},
   "outputs": [
    {
     "name": "stdout",
     "output_type": "stream",
     "text": [
      "[15, 10, 12, 20, 25, 13, 22]\n",
      "[15, 10, 12, 13, 25, 20, 22]\n",
      "[13, 10, 12, 15, 25, 20, 22]\n"
     ]
    }
   ],
   "source": [
    "#Dada la lista a continuación, escriba la salida después de ejecutar la función partition1()\n",
    "\n",
    "\n",
    "def partition1(S, low, high):\n",
    "    pivot = S[low]\n",
    "    left, right = low + 1, high\n",
    "    while left < right:\n",
    "        print(S)\n",
    "        while left <= right and S[left] <= pivot:\n",
    "            left += 1\n",
    "        while left <= right and S[right] >= pivot:\n",
    "            right -= 1\n",
    "        if left < right:\n",
    "            S[left], S[right] = S[right], S[left]\n",
    "    pivotpoint = right\n",
    "    S[low], S[pivotpoint] = S[pivotpoint], S[low]\n",
    "    return pivotpoint\n",
    "\n",
    "\n",
    "S = [15,10,12,20,25,13,22]\n",
    "partition1(S, 0, len(S)-1)\n",
    "print(S)\n",
    "\n",
    "\n",
    "\n"
   ]
  },
  {
   "cell_type": "code",
   "execution_count": null,
   "id": "74917124",
   "metadata": {},
   "outputs": [],
   "source": [
    "#como resultado obtuve eso implementado la funcion en base a los temarios dados\n",
    "#no implemento mas o configuro hacia el algoritmo quicksort porque no me quedo\n",
    "#claro las instrucciones de lo que tengo que realizar\n",
    "#en teoria lo que entendi es implementar la funcion y mostrar resultado\n",
    "### El pivote fue 15 y ordenara todos los menores a este sin embargo solo realiza 1 pasada\n",
    "###por lo que al terminar el 15 quedara en su posicion hasta donde no hayan menores que el  y dicho numero sea el mayor"
   ]
  },
  {
   "cell_type": "markdown",
   "id": "5c53b843",
   "metadata": {},
   "source": [
    "___"
   ]
  },
  {
   "cell_type": "markdown",
   "id": "896ee09a",
   "metadata": {},
   "source": [
    "# Fin"
   ]
  }
 ],
 "metadata": {
  "kernelspec": {
   "display_name": "Python 3 (ipykernel)",
   "language": "python",
   "name": "python3"
  },
  "language_info": {
   "codemirror_mode": {
    "name": "ipython",
    "version": 3
   },
   "file_extension": ".py",
   "mimetype": "text/x-python",
   "name": "python",
   "nbconvert_exporter": "python",
   "pygments_lexer": "ipython3",
   "version": "3.11.5"
  }
 },
 "nbformat": 4,
 "nbformat_minor": 5
}
