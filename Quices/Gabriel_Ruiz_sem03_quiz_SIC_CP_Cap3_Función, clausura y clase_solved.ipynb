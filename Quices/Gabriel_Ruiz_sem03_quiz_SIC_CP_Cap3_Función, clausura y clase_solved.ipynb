{
 "cells": [
  {
   "cell_type": "markdown",
   "id": "5ad8356f",
   "metadata": {},
   "source": [
    "# Coding and Programming\n",
    "\n",
    "## Capítulo 3\n",
    "\n",
    "### Función, clausura y clase\n",
    "\n",
    "- **Unidad 17.** Función\n",
    "- **Unidad 18.** Llamada a la función de recurrencia.\n",
    "- **Unidad 19.** Lambda\n",
    "- **Unidad 20.** Clausura\n",
    "- **Unidad 21.** Clase\n",
    "\n",
    "# Quiz 3"
   ]
  },
  {
   "cell_type": "markdown",
   "id": "a11871f3",
   "metadata": {},
   "source": [
    "## Q 17-01\n",
    "\n",
    "Reciba las coordenadas `(x1, y1), (x2, y2)` de dos puntos del usuario e imprima la distancia entre los dos puntos de la siguiente manera. Para hacer esto, implemente la función `distancia(x1, y1, x2, y2)`.\n",
    "\n",
    "\n",
    "**Pauta de código:** consulte la fórmula para encontrar la distancia entre dos puntos.\n"
   ]
  },
  {
   "cell_type": "code",
   "execution_count": 18,
   "id": "d624a756",
   "metadata": {},
   "outputs": [
    {
     "name": "stdout",
     "output_type": "stream",
     "text": [
      "Ingrese la coordenada x del primer punto: 20\n",
      "Ingrese la coordenada y del primer punto: 30\n",
      "Ingrese la coordenada x del segundo punto: 40\n",
      "Ingrese la coordenada y del segundo punto: 50\n",
      "La distancia entre los puntos (20.0, 30.0) y (40.0, 50.0) es: 28.284\n"
     ]
    }
   ],
   "source": [
    "import math\n",
    "\n",
    "def distancia(x1, y1, x2, y2):\n",
    "    distancia = math.sqrt((x2 - x1)**2 + (y2 - y1)**2)\n",
    "    return distancia\n",
    "\n",
    "# Solicitar las coordenadas de los dos puntos al usuario\n",
    "x1 = float(input(\"Ingrese la coordenada x del primer punto: \"))\n",
    "y1 = float(input(\"Ingrese la coordenada y del primer punto: \"))\n",
    "x2 = float(input(\"Ingrese la coordenada x del segundo punto: \"))\n",
    "y2 = float(input(\"Ingrese la coordenada y del segundo punto: \"))\n",
    "\n",
    "# Calcular la distancia entre los dos puntos usando la función distancia\n",
    "distancia_entre_puntos = distancia(x1, y1, x2, y2)\n",
    "\n",
    "# Imprimir el resultado\n",
    "print(\"La distancia entre los puntos ({}, {}) y ({}, {}) es: {:.3f}\".format(x1, y1, x2, y2, distancia_entre_puntos))\n"
   ]
  },
  {
   "cell_type": "markdown",
   "id": "19848cf5",
   "metadata": {},
   "source": []
  },
  {
   "cell_type": "markdown",
   "id": "a207d974",
   "metadata": {},
   "source": [
    "## Q 18-01\n",
    "\n",
    "Un palíndromo es una oración, palabra o cadena que es lo mismo que leer cualquier carácter de forma consecutiva.\n",
    "\n",
    "Por ejemplo, hay palabras como level, kayak, salas, somos, radar, reconocer.\n",
    "\n",
    "Usemos una llamada recursiva para determinar el palíndromo.\n",
    "\n",
    "Defina una función llamada `is_palindrome` y escriba un programa que reciba una cadena del usuario e imprima si el palindrome es correcto o no.\n",
    "\n",
    "**Pauta de código:** Llame a la función `is_palindrome` dentro de la función `is_palindrome`"
   ]
  },
  {
   "cell_type": "code",
   "execution_count": 20,
   "id": "9412595d",
   "metadata": {},
   "outputs": [
    {
     "name": "stdout",
     "output_type": "stream",
     "text": [
      "Ingrese una cadena para verificar si es un palíndromo: luz azul\n",
      "\n",
      "Esta es la cadena en estudio\n",
      "luzazul\n",
      "Esta es la primera letra de la cadena en estudio\n",
      "l\n",
      "Esta es la ultima letra de la cadena en estudio\n",
      "l\n",
      "\n",
      "\n",
      "Esta es la cadena en estudio\n",
      "uzazu\n",
      "Esta es la primera letra de la cadena en estudio\n",
      "u\n",
      "Esta es la ultima letra de la cadena en estudio\n",
      "u\n",
      "\n",
      "\n",
      "Esta es la cadena en estudio\n",
      "zaz\n",
      "Esta es la primera letra de la cadena en estudio\n",
      "z\n",
      "Esta es la ultima letra de la cadena en estudio\n",
      "z\n",
      "\n",
      "\n",
      "Esta es la cadena en estudio\n",
      "a\n",
      "Esta es la primera letra de la cadena en estudio\n",
      "a\n",
      "Esta es la ultima letra de la cadena en estudio\n",
      "a\n",
      "\n",
      "'luzazul' es un palíndromo.\n"
     ]
    }
   ],
   "source": [
    "def is_palindrome(cadena):\n",
    "    \n",
    "    print('')\n",
    "    print('Esta es la cadena en estudio')\n",
    "    print(cadena)\n",
    "    print('Esta es la primera letra de la cadena en estudio')\n",
    "    print(cadena[0])\n",
    "    print('Esta es la ultima letra de la cadena en estudio')\n",
    "    print(cadena[-1])\n",
    "    print('')\n",
    "\n",
    "    \n",
    "    # Caso base: si la cadena es vacía o tiene solo un carácter, es un palíndromo\n",
    "    if len(cadena) <= 1:\n",
    "        return True\n",
    "    \n",
    "    # Comparar la primera y la última letra de la cadena\n",
    "    if cadena[0] == cadena[-1]:\n",
    "        \n",
    "        # Llamada recursiva con la cadena sin la primera y la última letra\n",
    "        \n",
    "        return is_palindrome(cadena[1:-1])\n",
    "    else:\n",
    "        return False\n",
    "\n",
    "\n",
    "# Solicitar la cadena al usuario\n",
    "cadena = input(\"Ingrese una cadena para verificar si es un palíndromo: \")\n",
    "\n",
    "# Eliminar los espacios en blanco y convertir a minúsculas\n",
    "cadena = cadena.replace(\" \", \"\").lower()\n",
    "\n",
    "# Llamar a la función is_palindrome y verificar si es un palíndromo\n",
    "if is_palindrome(cadena):\n",
    "    print(f\"'{cadena}' es un palíndromo.\")\n",
    "else:\n",
    "    print(f\"'{cadena}' no es un palíndromo.\")\n",
    "\n",
    "\n",
    "#no sabia que luz azul era palindromo se me ocurrio de repente y obtuve mi repuesta  : ')'\n"
   ]
  },
  {
   "cell_type": "markdown",
   "id": "fbfb4985",
   "metadata": {},
   "source": [
    "## Q 19-01\n",
    "\n",
    "\n",
    "Después de poner una lista llamada `n_list` con valores de `[10, 20, 30]` en la función `map`.\n",
    "\n",
    "```\n",
    "n_list = [10,20,30]\n",
    "twice  = list(map(lambda x: x*2, n_list))\n",
    "triple = list(map(lambda x: x*3, n_list))\n",
    "```\n",
    "\n",
    "Indique el contenido de las variables `twice` y `triple`."
   ]
  },
  {
   "cell_type": "markdown",
   "id": "2cdc7344",
   "metadata": {},
   "source": []
  },
  {
   "cell_type": "code",
   "execution_count": 7,
   "id": "9ed7b3b6",
   "metadata": {},
   "outputs": [],
   "source": [
    "n_list = [10,20,30]\n",
    "twice  = list(map(lambda x: x*2, n_list))\n",
    "triple = list(map(lambda x: x*3, n_list))"
   ]
  },
  {
   "cell_type": "code",
   "execution_count": 8,
   "id": "f7e30562",
   "metadata": {},
   "outputs": [
    {
     "name": "stdout",
     "output_type": "stream",
     "text": [
      "[20, 40, 60]\n"
     ]
    }
   ],
   "source": [
    "print(twice)\n",
    "#imprime multiplicado x2\n",
    "\n",
    "#list es para convertir objeto del map en lista \n",
    "#map es para repetir una funcion a cada elemento de n_list en este caso\n",
    "#lambda es la funcion que definimos de manera corta que se realizara a cada elemento con map\n"
   ]
  },
  {
   "cell_type": "code",
   "execution_count": 11,
   "id": "b910a3f4",
   "metadata": {},
   "outputs": [
    {
     "name": "stdout",
     "output_type": "stream",
     "text": [
      "[30, 60, 90]\n"
     ]
    }
   ],
   "source": [
    "print(triple)\n",
    "#imprime multiplicado x3"
   ]
  },
  {
   "cell_type": "markdown",
   "id": "98938d2d",
   "metadata": {},
   "source": [
    "## Q 20-01\n",
    "\n",
    "En el siguiente código, espere qué valor se incluye finalmente en `num_list`. Calcule el resultado esperado a mano.\n",
    "\n",
    "**Pauta de codificación:** Escriba 5 veces la declaración `for`. Espere este resultado y envíe el resultado.\n",
    "\n",
    "```\n",
    "def calc_digit(n):\n",
    "    def findal(digit):\n",
    "        return digit**n\n",
    "    return final\n",
    "\n",
    "num_list = []\n",
    "for num in range(1,6):\n",
    "    num_list.append( calc_digit(num) )\n",
    "    print( num_list[num-1](num) )\n",
    "```"
   ]
  },
  {
   "cell_type": "markdown",
   "id": "fcde558f",
   "metadata": {},
   "source": []
  },
  {
   "cell_type": "code",
   "execution_count": 16,
   "id": "022cd76c",
   "metadata": {},
   "outputs": [
    {
     "name": "stdout",
     "output_type": "stream",
     "text": [
      "[1, 4, 27, 256, 3125]\n"
     ]
    }
   ],
   "source": [
    "#No he entendido bien el enunciado\n",
    "##segun creo es recorrer en el cilo cinco digitos este caso del 1 al 5\n",
    "\n",
    "#funcionamiento\n",
    "##cuando num =2 \n",
    "##la funcion calc digit me estaria regresando la otra\n",
    "##la funcion findal tendra ahora findal -2-\n",
    "## por lo que en teoria esta haciend 2**2 que es 2 elevado a 2\n",
    "##eso lo regresa y se guarda en la lista se va añadiendo\n",
    "##luego imprimimos la lista\n",
    "\n",
    "def calc_digit(n):\n",
    "    def findal(digit):\n",
    "        return digit**n\n",
    "    return findal\n",
    "\n",
    "num_list = []\n",
    "for num in range(1, 6):\n",
    "    final = calc_digit(num)\n",
    "    num_list.append(final(num))\n",
    "\n",
    "print(num_list)\n"
   ]
  },
  {
   "cell_type": "markdown",
   "id": "d3ece88b",
   "metadata": {},
   "source": [
    "## Q 21-01\n",
    "\n",
    "Implemente las funciones de multiplicación (*) y división (/) de dos vectores usando los métodos `mul` y `truediv` aprendidos en la **unidad 21**. Suponiendo que `v1` es `(30, 40)` y `v2` es `(10, 20)`, codifique (escriba la declaración de salida) para devolver el siguiente resultado como resultado de la multiplicación y división de dos vectores.\n",
    "\n",
    "\n",
    "**Pauta de codificación:** escriba código que amplíe la funcionalidad de la clase `Vector2D` que aprendió en este capítulo."
   ]
  },
  {
   "cell_type": "markdown",
   "id": "1d58d47c",
   "metadata": {},
   "source": []
  },
  {
   "cell_type": "code",
   "execution_count": 4,
   "id": "93db0633",
   "metadata": {},
   "outputs": [],
   "source": [
    "class Vector:\n",
    "    def __init__(self, x, y):\n",
    "        self.x = x\n",
    "        self.y = y\n",
    "\n",
    "    def __mul__(self, other):\n",
    "        #mul se define para multiplicar y lo hara entre los dos vectores que reciba\n",
    "        if isinstance(other, Vector):\n",
    "            return Vector(self.x * other.x, self.y * other.y)\n",
    "        else:\n",
    "            raise TypeError(\"Operación no soportada\")\n",
    "\n",
    "    def __truediv__(self, other):\n",
    "        #truediv es dividir y lo hara entre los dos vectores que reciba\n",
    "        if isinstance(other, Vector):\n",
    "            return Vector(self.x / other.x, self.y / other.y)\n",
    "        else:\n",
    "            raise TypeError(\"Operación no soportada\")\n",
    "\n",
    "    def __repr__(self):\n",
    "        #regresamos los datos con dicho proceso realizado\n",
    "        return f\"Vector({self.x}, {self.y})\"\n",
    "\n",
    "\n"
   ]
  },
  {
   "cell_type": "code",
   "execution_count": 17,
   "id": "326a3a04",
   "metadata": {},
   "outputs": [
    {
     "name": "stdout",
     "output_type": "stream",
     "text": [
      "Multiplicacion del vector: Vector(300, 800)\n",
      "División del vector Vector(3.0, 2.0)\n"
     ]
    }
   ],
   "source": [
    "\n",
    "v1 = Vector(30, 40)\n",
    "v2 = Vector(10, 20)\n",
    "\n",
    "mul = v1 * v2\n",
    "print(\"Multiplicacion del vector:\", mul)\n",
    "\n",
    "div = v1 / v2\n",
    "print(\"División del vector\", div)"
   ]
  },
  {
   "cell_type": "markdown",
   "id": "2717ce09",
   "metadata": {},
   "source": [
    "___"
   ]
  },
  {
   "cell_type": "markdown",
   "id": "10514335",
   "metadata": {},
   "source": [
    "# Fin"
   ]
  }
 ],
 "metadata": {
  "kernelspec": {
   "display_name": "Python 3 (ipykernel)",
   "language": "python",
   "name": "python3"
  },
  "language_info": {
   "codemirror_mode": {
    "name": "ipython",
    "version": 3
   },
   "file_extension": ".py",
   "mimetype": "text/x-python",
   "name": "python",
   "nbconvert_exporter": "python",
   "pygments_lexer": "ipython3",
   "version": "3.11.5"
  }
 },
 "nbformat": 4,
 "nbformat_minor": 5
}
